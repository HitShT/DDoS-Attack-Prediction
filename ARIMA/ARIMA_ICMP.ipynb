{
  "nbformat": 4,
  "nbformat_minor": 0,
  "metadata": {
    "colab": {
      "name": "ARIMA ICMP",
      "provenance": []
    },
    "kernelspec": {
      "name": "python3",
      "display_name": "Python 3"
    }
  },
  "cells": [
    {
      "cell_type": "code",
      "metadata": {
        "id": "bvtpL7dE-rSK",
        "colab_type": "code",
        "outputId": "59cfd565-62c8-4584-8254-8341b1f8d589",
        "colab": {
          "base_uri": "https://localhost:8080/",
          "height": 35
        }
      },
      "source": [
        "from google.colab import drive\n",
        "drive.mount('/content/drive')"
      ],
      "execution_count": 0,
      "outputs": [
        {
          "output_type": "stream",
          "text": [
            "Mounted at /content/drive\n"
          ],
          "name": "stdout"
        }
      ]
    },
    {
      "cell_type": "code",
      "metadata": {
        "id": "x8gHO0AISWNm",
        "colab_type": "code",
        "colab": {}
      },
      "source": [
        "import numpy as np"
      ],
      "execution_count": 0,
      "outputs": []
    },
    {
      "cell_type": "code",
      "metadata": {
        "id": "6Kky_Yql-sbv",
        "colab_type": "code",
        "outputId": "06ebc378-3c4a-4687-c6a8-7933c3240f9c",
        "colab": {
          "base_uri": "https://localhost:8080/",
          "height": 610
        }
      },
      "source": [
        "import pandas as pd\n",
        "dataset = pd.read_csv(\"/content/drive/My Drive/Datasets: Cyber/Uncensored/ICMP.csv\")\n",
        "dataset.head()"
      ],
      "execution_count": 0,
      "outputs": [
        {
          "output_type": "stream",
          "text": [
            "/usr/local/lib/python3.6/dist-packages/IPython/core/interactiveshell.py:2718: DtypeWarning: Columns (20) have mixed types. Specify dtype option on import or set low_memory=False.\n",
            "  interactivity=interactivity, compiler=compiler, result=result)\n"
          ],
          "name": "stderr"
        },
        {
          "output_type": "execute_result",
          "data": {
            "text/html": [
              "<div>\n",
              "<style scoped>\n",
              "    .dataframe tbody tr th:only-of-type {\n",
              "        vertical-align: middle;\n",
              "    }\n",
              "\n",
              "    .dataframe tbody tr th {\n",
              "        vertical-align: top;\n",
              "    }\n",
              "\n",
              "    .dataframe thead th {\n",
              "        text-align: right;\n",
              "    }\n",
              "</style>\n",
              "<table border=\"1\" class=\"dataframe\">\n",
              "  <thead>\n",
              "    <tr style=\"text-align: right;\">\n",
              "      <th></th>\n",
              "      <th>Date</th>\n",
              "      <th>UTC Time</th>\n",
              "      <th>Time</th>\n",
              "      <th>Relative Time</th>\n",
              "      <th>Absolute Time</th>\n",
              "      <th>Delta Time</th>\n",
              "      <th>Source</th>\n",
              "      <th>Destination</th>\n",
              "      <th>Protocol</th>\n",
              "      <th>Length</th>\n",
              "      <th>Info</th>\n",
              "      <th>SourcePort</th>\n",
              "      <th>DestPort</th>\n",
              "      <th>Cumulative Bytes</th>\n",
              "      <th>Hwdestaddr</th>\n",
              "      <th>Hwsrcaddr</th>\n",
              "      <th>Unresolved Destport</th>\n",
              "      <th>Unresolved Srcport</th>\n",
              "      <th>NetSrcAddr</th>\n",
              "      <th>NetDestAddr</th>\n",
              "      <th>ExpertInfo</th>\n",
              "      <th>Class</th>\n",
              "    </tr>\n",
              "  </thead>\n",
              "  <tbody>\n",
              "    <tr>\n",
              "      <th>0</th>\n",
              "      <td>12-03-2017 15:23</td>\n",
              "      <td>15:23:08</td>\n",
              "      <td>0.000000</td>\n",
              "      <td>0.000000</td>\n",
              "      <td>20:53:08</td>\n",
              "      <td>0.000000</td>\n",
              "      <td>192.168.61.6</td>\n",
              "      <td>192.168.100.1</td>\n",
              "      <td>SSH</td>\n",
              "      <td>110</td>\n",
              "      <td>Server: Encrypted packet (len=44)</td>\n",
              "      <td>22.0</td>\n",
              "      <td>38844.0</td>\n",
              "      <td>110</td>\n",
              "      <td>fa:16:3e:50:e1:f3</td>\n",
              "      <td>fa:16:3e:68:44:52</td>\n",
              "      <td>38844.0</td>\n",
              "      <td>22.0</td>\n",
              "      <td>192.168.61.6</td>\n",
              "      <td>192.168.100.1</td>\n",
              "      <td>NaN</td>\n",
              "      <td>ICMPFlood</td>\n",
              "    </tr>\n",
              "    <tr>\n",
              "      <th>1</th>\n",
              "      <td>12-03-2017 15:23</td>\n",
              "      <td>15:23:08</td>\n",
              "      <td>0.003862</td>\n",
              "      <td>0.003862</td>\n",
              "      <td>20:53:08</td>\n",
              "      <td>0.003862</td>\n",
              "      <td>192.168.100.1</td>\n",
              "      <td>192.168.61.6</td>\n",
              "      <td>TCP</td>\n",
              "      <td>66</td>\n",
              "      <td>38844  &gt;  22 [ACK] Seq=1 Ack=45 Win=273 Len=0 ...</td>\n",
              "      <td>38844.0</td>\n",
              "      <td>22.0</td>\n",
              "      <td>176</td>\n",
              "      <td>fa:16:3e:68:44:52</td>\n",
              "      <td>fa:16:3e:50:e1:f3</td>\n",
              "      <td>22.0</td>\n",
              "      <td>38844.0</td>\n",
              "      <td>192.168.100.1</td>\n",
              "      <td>192.168.61.6</td>\n",
              "      <td>NaN</td>\n",
              "      <td>ICMPFlood</td>\n",
              "    </tr>\n",
              "    <tr>\n",
              "      <th>2</th>\n",
              "      <td>12-03-2017 15:23</td>\n",
              "      <td>15:23:08</td>\n",
              "      <td>0.005187</td>\n",
              "      <td>0.005187</td>\n",
              "      <td>20:53:08</td>\n",
              "      <td>0.001325</td>\n",
              "      <td>192.168.61.6</td>\n",
              "      <td>192.168.100.1</td>\n",
              "      <td>SSH</td>\n",
              "      <td>174</td>\n",
              "      <td>Server: Encrypted packet (len=108)</td>\n",
              "      <td>22.0</td>\n",
              "      <td>38844.0</td>\n",
              "      <td>350</td>\n",
              "      <td>fa:16:3e:50:e1:f3</td>\n",
              "      <td>fa:16:3e:68:44:52</td>\n",
              "      <td>38844.0</td>\n",
              "      <td>22.0</td>\n",
              "      <td>192.168.61.6</td>\n",
              "      <td>192.168.100.1</td>\n",
              "      <td>NaN</td>\n",
              "      <td>ICMPFlood</td>\n",
              "    </tr>\n",
              "    <tr>\n",
              "      <th>3</th>\n",
              "      <td>12-03-2017 15:23</td>\n",
              "      <td>15:23:08</td>\n",
              "      <td>0.005523</td>\n",
              "      <td>0.005523</td>\n",
              "      <td>20:53:08</td>\n",
              "      <td>0.000336</td>\n",
              "      <td>192.168.61.6</td>\n",
              "      <td>192.168.100.1</td>\n",
              "      <td>SSH</td>\n",
              "      <td>102</td>\n",
              "      <td>Server: Encrypted packet (len=36)</td>\n",
              "      <td>22.0</td>\n",
              "      <td>38844.0</td>\n",
              "      <td>452</td>\n",
              "      <td>fa:16:3e:50:e1:f3</td>\n",
              "      <td>fa:16:3e:68:44:52</td>\n",
              "      <td>38844.0</td>\n",
              "      <td>22.0</td>\n",
              "      <td>192.168.61.6</td>\n",
              "      <td>192.168.100.1</td>\n",
              "      <td>NaN</td>\n",
              "      <td>ICMPFlood</td>\n",
              "    </tr>\n",
              "    <tr>\n",
              "      <th>4</th>\n",
              "      <td>12-03-2017 15:23</td>\n",
              "      <td>15:23:08</td>\n",
              "      <td>0.006986</td>\n",
              "      <td>0.006986</td>\n",
              "      <td>20:53:08</td>\n",
              "      <td>0.001463</td>\n",
              "      <td>192.168.100.1</td>\n",
              "      <td>192.168.61.6</td>\n",
              "      <td>TCP</td>\n",
              "      <td>66</td>\n",
              "      <td>38844  &gt;  22 [ACK] Seq=1 Ack=153 Win=273 Len=0...</td>\n",
              "      <td>38844.0</td>\n",
              "      <td>22.0</td>\n",
              "      <td>518</td>\n",
              "      <td>fa:16:3e:68:44:52</td>\n",
              "      <td>fa:16:3e:50:e1:f3</td>\n",
              "      <td>22.0</td>\n",
              "      <td>38844.0</td>\n",
              "      <td>192.168.100.1</td>\n",
              "      <td>192.168.61.6</td>\n",
              "      <td>NaN</td>\n",
              "      <td>ICMPFlood</td>\n",
              "    </tr>\n",
              "  </tbody>\n",
              "</table>\n",
              "</div>"
            ],
            "text/plain": [
              "               Date  UTC Time      Time  ...    NetDestAddr ExpertInfo      Class\n",
              "0  12-03-2017 15:23  15:23:08  0.000000  ...  192.168.100.1        NaN  ICMPFlood\n",
              "1  12-03-2017 15:23  15:23:08  0.003862  ...   192.168.61.6        NaN  ICMPFlood\n",
              "2  12-03-2017 15:23  15:23:08  0.005187  ...  192.168.100.1        NaN  ICMPFlood\n",
              "3  12-03-2017 15:23  15:23:08  0.005523  ...  192.168.100.1        NaN  ICMPFlood\n",
              "4  12-03-2017 15:23  15:23:08  0.006986  ...   192.168.61.6        NaN  ICMPFlood\n",
              "\n",
              "[5 rows x 22 columns]"
            ]
          },
          "metadata": {
            "tags": []
          },
          "execution_count": 2
        }
      ]
    },
    {
      "cell_type": "code",
      "metadata": {
        "id": "C0Bke_Fi_Apf",
        "colab_type": "code",
        "colab": {}
      },
      "source": [
        "dataset[\"Date\"]=pd.to_datetime(dataset[\"Date\"])"
      ],
      "execution_count": 0,
      "outputs": []
    },
    {
      "cell_type": "code",
      "metadata": {
        "id": "MpwHy7ZI_QFQ",
        "colab_type": "code",
        "colab": {}
      },
      "source": [
        "li=[]\n",
        "for i in dataset:\n",
        "  li.append(i)"
      ],
      "execution_count": 0,
      "outputs": []
    },
    {
      "cell_type": "code",
      "metadata": {
        "id": "qX-ZyKgd_n8I",
        "colab_type": "code",
        "colab": {}
      },
      "source": [
        "li=li[1:-1]"
      ],
      "execution_count": 0,
      "outputs": []
    },
    {
      "cell_type": "code",
      "metadata": {
        "id": "LqZAl9NB_v9n",
        "colab_type": "code",
        "colab": {}
      },
      "source": [
        "dataset=dataset.drop(li,axis=1)"
      ],
      "execution_count": 0,
      "outputs": []
    },
    {
      "cell_type": "code",
      "metadata": {
        "id": "mJy1jp0SALjj",
        "colab_type": "code",
        "outputId": "e3bbbb58-2143-4a21-fa36-e0cdf40266a5",
        "colab": {
          "base_uri": "https://localhost:8080/",
          "height": 206
        }
      },
      "source": [
        "dataset.head()"
      ],
      "execution_count": 0,
      "outputs": [
        {
          "output_type": "execute_result",
          "data": {
            "text/html": [
              "<div>\n",
              "<style scoped>\n",
              "    .dataframe tbody tr th:only-of-type {\n",
              "        vertical-align: middle;\n",
              "    }\n",
              "\n",
              "    .dataframe tbody tr th {\n",
              "        vertical-align: top;\n",
              "    }\n",
              "\n",
              "    .dataframe thead th {\n",
              "        text-align: right;\n",
              "    }\n",
              "</style>\n",
              "<table border=\"1\" class=\"dataframe\">\n",
              "  <thead>\n",
              "    <tr style=\"text-align: right;\">\n",
              "      <th></th>\n",
              "      <th>Date</th>\n",
              "      <th>Class</th>\n",
              "    </tr>\n",
              "  </thead>\n",
              "  <tbody>\n",
              "    <tr>\n",
              "      <th>0</th>\n",
              "      <td>2017-12-03 15:23:00</td>\n",
              "      <td>ICMPFlood</td>\n",
              "    </tr>\n",
              "    <tr>\n",
              "      <th>1</th>\n",
              "      <td>2017-12-03 15:23:00</td>\n",
              "      <td>ICMPFlood</td>\n",
              "    </tr>\n",
              "    <tr>\n",
              "      <th>2</th>\n",
              "      <td>2017-12-03 15:23:00</td>\n",
              "      <td>ICMPFlood</td>\n",
              "    </tr>\n",
              "    <tr>\n",
              "      <th>3</th>\n",
              "      <td>2017-12-03 15:23:00</td>\n",
              "      <td>ICMPFlood</td>\n",
              "    </tr>\n",
              "    <tr>\n",
              "      <th>4</th>\n",
              "      <td>2017-12-03 15:23:00</td>\n",
              "      <td>ICMPFlood</td>\n",
              "    </tr>\n",
              "  </tbody>\n",
              "</table>\n",
              "</div>"
            ],
            "text/plain": [
              "                 Date      Class\n",
              "0 2017-12-03 15:23:00  ICMPFlood\n",
              "1 2017-12-03 15:23:00  ICMPFlood\n",
              "2 2017-12-03 15:23:00  ICMPFlood\n",
              "3 2017-12-03 15:23:00  ICMPFlood\n",
              "4 2017-12-03 15:23:00  ICMPFlood"
            ]
          },
          "metadata": {
            "tags": []
          },
          "execution_count": 7
        }
      ]
    },
    {
      "cell_type": "code",
      "metadata": {
        "id": "DJo9gBNJ_0_H",
        "colab_type": "code",
        "colab": {}
      },
      "source": [
        "import matplotlib.pyplot as plt"
      ],
      "execution_count": 0,
      "outputs": []
    },
    {
      "cell_type": "code",
      "metadata": {
        "id": "H6zlYcQ7ACpz",
        "colab_type": "code",
        "outputId": "b556a43e-2b60-420a-e25d-8ec63205ec64",
        "colab": {
          "base_uri": "https://localhost:8080/",
          "height": 416
        }
      },
      "source": [
        "plt.plot(dataset[\"Date\"].tolist(),dataset[\"Class\"].tolist())"
      ],
      "execution_count": 0,
      "outputs": [
        {
          "output_type": "stream",
          "text": [
            "/usr/local/lib/python3.6/dist-packages/pandas/plotting/_converter.py:129: FutureWarning: Using an implicitly registered datetime converter for a matplotlib plotting method. The converter was registered by pandas on import. Future versions of pandas will require you to explicitly register matplotlib converters.\n",
            "\n",
            "To register the converters:\n",
            "\t>>> from pandas.plotting import register_matplotlib_converters\n",
            "\t>>> register_matplotlib_converters()\n",
            "  warnings.warn(msg, FutureWarning)\n"
          ],
          "name": "stderr"
        },
        {
          "output_type": "execute_result",
          "data": {
            "text/plain": [
              "[<matplotlib.lines.Line2D at 0x7f6180965470>]"
            ]
          },
          "metadata": {
            "tags": []
          },
          "execution_count": 9
        },
        {
          "output_type": "display_data",
          "data": {
            "image/png": "[encoded data removed]",
            "text/plain": [
              "<Figure size 432x288 with 1 Axes>"
            ]
          },
          "metadata": {
            "tags": []
          }
        }
      ]
    },
    {
      "cell_type": "code",
      "metadata": {
        "id": "4t0VarEVA2QB",
        "colab_type": "code",
        "colab": {}
      },
      "source": [
        "from pandas import read_csv\n",
        "from pandas import datetime\n",
        "from matplotlib import pyplot\n",
        "from statsmodels.tsa.arima_model import ARIMA\n",
        "from sklearn.metrics import mean_squared_error"
      ],
      "execution_count": 0,
      "outputs": []
    },
    {
      "cell_type": "code",
      "metadata": {
        "id": "jcWK2_ynMWO6",
        "colab_type": "code",
        "outputId": "d5bd1798-185f-45be-c738-a3a9e39ff6b4",
        "colab": {
          "base_uri": "https://localhost:8080/",
          "height": 35
        }
      },
      "source": [
        "type(dataset[\"Class\"])"
      ],
      "execution_count": 0,
      "outputs": [
        {
          "output_type": "execute_result",
          "data": {
            "text/plain": [
              "pandas.core.series.Series"
            ]
          },
          "metadata": {
            "tags": []
          },
          "execution_count": 11
        }
      ]
    },
    {
      "cell_type": "code",
      "metadata": {
        "id": "0boefC75Kjzs",
        "colab_type": "code",
        "colab": {}
      },
      "source": [
        "from sklearn import preprocessing\n",
        "le = preprocessing.LabelEncoder()\n",
        "dataset[\"Class\"]=le.fit_transform(dataset[\"Class\"])"
      ],
      "execution_count": 0,
      "outputs": []
    },
    {
      "cell_type": "code",
      "metadata": {
        "id": "VkzvUOTDKHTT",
        "colab_type": "code",
        "colab": {}
      },
      "source": [
        "dataset.reindex(np.random.permutation(dataset.index))\n",
        "data = pd.Series(dataset[\"Class\"].values, index=dataset[\"Date\"].values)"
      ],
      "execution_count": 0,
      "outputs": []
    },
    {
      "cell_type": "code",
      "metadata": {
        "id": "Cy7H98_eMhyK",
        "colab_type": "code",
        "colab": {}
      },
      "source": [
        "size = int(len(data) * 0.94)\n",
        "train, test = data[:size], data[size:]"
      ],
      "execution_count": 0,
      "outputs": []
    },
    {
      "cell_type": "code",
      "metadata": {
        "id": "nQMDR6AGTRyU",
        "colab_type": "code",
        "outputId": "24716568-034f-4cd4-d090-7d5041f02eeb",
        "colab": {
          "base_uri": "https://localhost:8080/",
          "height": 1000
        }
      },
      "source": [
        "train"
      ],
      "execution_count": 0,
      "outputs": [
        {
          "output_type": "execute_result",
          "data": {
            "text/plain": [
              "2017-12-03 15:23:00    0\n",
              "2017-12-03 15:23:00    0\n",
              "2017-12-03 15:23:00    0\n",
              "2017-12-03 15:23:00    0\n",
              "2017-12-03 15:23:00    0\n",
              "2017-12-03 15:23:00    0\n",
              "2017-12-03 15:23:00    0\n",
              "2017-12-03 15:23:00    0\n",
              "2017-12-03 15:23:00    0\n",
              "2017-12-03 15:23:00    0\n",
              "2017-12-03 15:23:00    0\n",
              "2017-12-03 15:23:00    0\n",
              "2017-12-03 15:23:00    0\n",
              "2017-12-03 15:23:00    0\n",
              "2017-12-03 15:23:00    0\n",
              "2017-12-03 15:23:00    0\n",
              "2017-12-03 15:23:00    0\n",
              "2017-12-03 15:23:00    0\n",
              "2017-12-03 15:23:00    0\n",
              "2017-12-03 15:23:00    0\n",
              "2017-12-03 15:23:00    0\n",
              "2017-12-03 15:23:00    0\n",
              "2017-12-03 15:23:00    0\n",
              "2017-12-03 15:23:00    0\n",
              "2017-12-03 15:23:00    0\n",
              "2017-12-03 15:23:00    0\n",
              "2017-12-03 15:23:00    0\n",
              "2017-12-03 15:23:00    0\n",
              "2017-12-03 15:23:00    0\n",
              "2017-12-03 15:23:00    0\n",
              "                      ..\n",
              "2017-07-28 10:07:00    1\n",
              "2017-07-28 10:07:00    1\n",
              "2017-07-28 10:07:00    1\n",
              "2017-07-28 10:07:00    1\n",
              "2017-07-28 10:07:00    1\n",
              "2017-07-28 10:07:00    1\n",
              "2017-07-28 10:07:00    1\n",
              "2017-07-28 10:07:00    1\n",
              "2017-07-28 10:07:00    1\n",
              "2017-07-28 10:07:00    1\n",
              "2017-07-28 10:07:00    1\n",
              "2017-07-28 10:07:00    1\n",
              "2017-07-28 10:07:00    1\n",
              "2017-07-28 10:07:00    1\n",
              "2017-07-28 10:07:00    1\n",
              "2017-07-28 10:07:00    1\n",
              "2017-07-28 10:07:00    1\n",
              "2017-07-28 10:07:00    1\n",
              "2017-07-28 10:07:00    1\n",
              "2017-07-28 10:07:00    1\n",
              "2017-07-28 10:07:00    1\n",
              "2017-07-28 10:07:00    1\n",
              "2017-07-28 10:07:00    1\n",
              "2017-07-28 10:07:00    1\n",
              "2017-07-28 10:07:00    1\n",
              "2017-07-28 10:07:00    1\n",
              "2017-07-28 10:07:00    1\n",
              "2017-07-28 10:07:00    1\n",
              "2017-07-28 10:07:00    1\n",
              "2017-07-28 10:07:00    1\n",
              "Length: 363780, dtype: int64"
            ]
          },
          "metadata": {
            "tags": []
          },
          "execution_count": 34
        }
      ]
    },
    {
      "cell_type": "code",
      "metadata": {
        "id": "z8Fr6Iv6QZ8a",
        "colab_type": "code",
        "colab": {}
      },
      "source": [
        "history=[x for x in train]"
      ],
      "execution_count": 0,
      "outputs": []
    },
    {
      "cell_type": "code",
      "metadata": {
        "id": "rNg8LtXHQ8H4",
        "colab_type": "code",
        "outputId": "ece9cea1-3ac4-45fd-d957-fa1b44af92c8",
        "colab": {
          "base_uri": "https://localhost:8080/",
          "height": 1000
        }
      },
      "source": [
        "predictions = list()\n",
        "for t in range(len(test)):\n",
        "\tmodel = ARIMA(history, order=(5,1,0))\n",
        "\tmodel_fit = model.fit(disp=0)\n",
        "\toutput = model_fit.forecast()\n",
        "\tyhat = output[0]\n",
        "\tpredictions.append(yhat)\n",
        "\tobs = test[t]\n",
        "\thistory.append(obs)\n",
        "\tprint('predicted=%f, expected=%f' % (yhat, obs))"
      ],
      "execution_count": 0,
      "outputs": [
        {
          "output_type": "stream",
          "text": [
            "predicted=1.000003, expected=1.000000\n",
            "predicted=1.000003, expected=1.000000\n",
            "predicted=1.000003, expected=1.000000\n",
            "predicted=1.000003, expected=1.000000\n",
            "predicted=1.000003, expected=1.000000\n",
            "predicted=1.000003, expected=1.000000\n",
            "predicted=1.000003, expected=1.000000\n",
            "predicted=1.000003, expected=1.000000\n",
            "predicted=1.000003, expected=1.000000\n",
            "predicted=1.000003, expected=1.000000\n",
            "predicted=1.000003, expected=1.000000\n",
            "predicted=1.000003, expected=1.000000\n",
            "predicted=1.000003, expected=1.000000\n",
            "predicted=1.000003, expected=1.000000\n",
            "predicted=1.000003, expected=1.000000\n",
            "predicted=1.000003, expected=1.000000\n",
            "predicted=1.000003, expected=1.000000\n",
            "predicted=1.000003, expected=1.000000\n",
            "predicted=1.000003, expected=1.000000\n",
            "predicted=1.000003, expected=1.000000\n",
            "predicted=1.000003, expected=1.000000\n",
            "predicted=1.000003, expected=1.000000\n",
            "predicted=1.000003, expected=1.000000\n",
            "predicted=1.000003, expected=1.000000\n",
            "predicted=1.000003, expected=1.000000\n",
            "predicted=1.000003, expected=1.000000\n",
            "predicted=1.000003, expected=1.000000\n",
            "predicted=1.000003, expected=1.000000\n",
            "predicted=1.000003, expected=1.000000\n",
            "predicted=1.000003, expected=1.000000\n",
            "predicted=1.000003, expected=1.000000\n",
            "predicted=1.000003, expected=1.000000\n",
            "predicted=1.000003, expected=1.000000\n",
            "predicted=1.000003, expected=1.000000\n",
            "predicted=1.000003, expected=1.000000\n",
            "predicted=1.000003, expected=1.000000\n",
            "predicted=1.000003, expected=1.000000\n",
            "predicted=1.000003, expected=1.000000\n",
            "predicted=1.000003, expected=1.000000\n",
            "predicted=1.000003, expected=1.000000\n",
            "predicted=1.000003, expected=1.000000\n",
            "predicted=1.000003, expected=1.000000\n",
            "predicted=1.000003, expected=1.000000\n",
            "predicted=1.000003, expected=1.000000\n",
            "predicted=1.000003, expected=1.000000\n",
            "predicted=1.000003, expected=1.000000\n",
            "predicted=1.000003, expected=1.000000\n",
            "predicted=1.000003, expected=1.000000\n",
            "predicted=1.000003, expected=1.000000\n",
            "predicted=1.000003, expected=1.000000\n",
            "predicted=1.000003, expected=1.000000\n",
            "predicted=1.000003, expected=1.000000\n",
            "predicted=1.000003, expected=1.000000\n",
            "predicted=1.000003, expected=1.000000\n",
            "predicted=1.000003, expected=1.000000\n",
            "predicted=1.000003, expected=1.000000\n",
            "predicted=1.000003, expected=1.000000\n",
            "predicted=1.000003, expected=1.000000\n",
            "predicted=1.000003, expected=1.000000\n",
            "predicted=1.000003, expected=1.000000\n",
            "predicted=1.000003, expected=1.000000\n",
            "predicted=1.000003, expected=1.000000\n",
            "predicted=1.000003, expected=1.000000\n",
            "predicted=1.000003, expected=1.000000\n",
            "predicted=1.000003, expected=1.000000\n",
            "predicted=1.000003, expected=1.000000\n",
            "predicted=1.000003, expected=1.000000\n",
            "predicted=1.000003, expected=1.000000\n",
            "predicted=1.000003, expected=1.000000\n",
            "predicted=1.000003, expected=1.000000\n",
            "predicted=1.000003, expected=1.000000\n",
            "predicted=1.000003, expected=1.000000\n",
            "predicted=1.000003, expected=1.000000\n",
            "predicted=1.000003, expected=1.000000\n",
            "predicted=1.000003, expected=1.000000\n",
            "predicted=1.000003, expected=1.000000\n",
            "predicted=1.000003, expected=1.000000\n",
            "predicted=1.000003, expected=1.000000\n",
            "predicted=1.000003, expected=1.000000\n",
            "predicted=1.000003, expected=1.000000\n",
            "predicted=1.000003, expected=1.000000\n",
            "predicted=1.000003, expected=1.000000\n",
            "predicted=1.000003, expected=1.000000\n",
            "predicted=1.000003, expected=1.000000\n",
            "predicted=1.000003, expected=1.000000\n",
            "predicted=1.000003, expected=1.000000\n",
            "predicted=1.000003, expected=1.000000\n",
            "predicted=1.000003, expected=1.000000\n",
            "predicted=1.000003, expected=1.000000\n",
            "predicted=1.000003, expected=1.000000\n",
            "predicted=1.000003, expected=1.000000\n",
            "predicted=1.000003, expected=1.000000\n",
            "predicted=1.000003, expected=1.000000\n",
            "predicted=1.000003, expected=1.000000\n",
            "predicted=1.000003, expected=1.000000\n",
            "predicted=1.000003, expected=1.000000\n",
            "predicted=1.000003, expected=1.000000\n",
            "predicted=1.000003, expected=1.000000\n",
            "predicted=1.000003, expected=1.000000\n",
            "predicted=1.000003, expected=1.000000\n",
            "predicted=1.000003, expected=1.000000\n",
            "predicted=1.000003, expected=1.000000\n",
            "predicted=1.000003, expected=1.000000\n",
            "predicted=1.000003, expected=1.000000\n",
            "predicted=1.000003, expected=1.000000\n",
            "predicted=1.000003, expected=1.000000\n",
            "predicted=1.000003, expected=1.000000\n",
            "predicted=1.000003, expected=1.000000\n",
            "predicted=1.000003, expected=1.000000\n",
            "predicted=1.000003, expected=1.000000\n",
            "predicted=1.000003, expected=1.000000\n",
            "predicted=1.000003, expected=1.000000\n",
            "predicted=1.000003, expected=1.000000\n",
            "predicted=1.000003, expected=1.000000\n",
            "predicted=1.000003, expected=1.000000\n",
            "predicted=1.000003, expected=1.000000\n",
            "predicted=1.000003, expected=1.000000\n",
            "predicted=1.000003, expected=1.000000\n",
            "predicted=1.000003, expected=1.000000\n",
            "predicted=1.000003, expected=1.000000\n",
            "predicted=1.000003, expected=1.000000\n",
            "predicted=1.000003, expected=1.000000\n",
            "predicted=1.000003, expected=1.000000\n",
            "predicted=1.000003, expected=1.000000\n",
            "predicted=1.000003, expected=1.000000\n",
            "predicted=1.000003, expected=1.000000\n",
            "predicted=1.000003, expected=1.000000\n"
          ],
          "name": "stdout"
        },
        {
          "output_type": "stream",
          "text": [
            "/usr/local/lib/python3.6/dist-packages/statsmodels/base/model.py:512: ConvergenceWarning: Maximum Likelihood optimization failed to converge. Check mle_retvals\n",
            "  \"Check mle_retvals\", ConvergenceWarning)\n"
          ],
          "name": "stderr"
        },
        {
          "output_type": "stream",
          "text": [
            "predicted=1.000003, expected=1.000000\n",
            "predicted=1.000003, expected=1.000000\n",
            "predicted=1.000003, expected=1.000000\n",
            "predicted=1.000003, expected=1.000000\n",
            "predicted=1.000003, expected=1.000000\n",
            "predicted=1.000003, expected=1.000000\n",
            "predicted=1.000003, expected=1.000000\n",
            "predicted=1.000003, expected=1.000000\n",
            "predicted=1.000003, expected=1.000000\n",
            "predicted=1.000003, expected=1.000000\n",
            "predicted=1.000003, expected=1.000000\n",
            "predicted=1.000003, expected=1.000000\n",
            "predicted=1.000003, expected=1.000000\n",
            "predicted=1.000003, expected=1.000000\n",
            "predicted=1.000003, expected=1.000000\n",
            "predicted=1.000003, expected=1.000000\n",
            "predicted=1.000003, expected=1.000000\n",
            "predicted=1.000003, expected=1.000000\n",
            "predicted=1.000003, expected=1.000000\n",
            "predicted=1.000003, expected=1.000000\n",
            "predicted=1.000003, expected=1.000000\n",
            "predicted=1.000003, expected=1.000000\n",
            "predicted=1.000003, expected=1.000000\n",
            "predicted=1.000003, expected=1.000000\n",
            "predicted=1.000003, expected=1.000000\n",
            "predicted=1.000003, expected=1.000000\n",
            "predicted=1.000003, expected=1.000000\n",
            "predicted=1.000003, expected=1.000000\n",
            "predicted=1.000003, expected=1.000000\n",
            "predicted=1.000003, expected=1.000000\n",
            "predicted=1.000003, expected=1.000000\n",
            "predicted=1.000003, expected=1.000000\n",
            "predicted=1.000003, expected=1.000000\n",
            "predicted=1.000003, expected=1.000000\n",
            "predicted=1.000003, expected=1.000000\n",
            "predicted=1.000003, expected=1.000000\n",
            "predicted=1.000003, expected=1.000000\n",
            "predicted=1.000003, expected=1.000000\n",
            "predicted=1.000003, expected=1.000000\n",
            "predicted=1.000003, expected=1.000000\n",
            "predicted=1.000003, expected=1.000000\n",
            "predicted=1.000003, expected=1.000000\n",
            "predicted=1.000003, expected=1.000000\n",
            "predicted=1.000003, expected=1.000000\n",
            "predicted=1.000003, expected=1.000000\n"
          ],
          "name": "stdout"
        },
        {
          "output_type": "stream",
          "text": [
            "/usr/local/lib/python3.6/dist-packages/statsmodels/base/model.py:512: ConvergenceWarning: Maximum Likelihood optimization failed to converge. Check mle_retvals\n",
            "  \"Check mle_retvals\", ConvergenceWarning)\n"
          ],
          "name": "stderr"
        },
        {
          "output_type": "stream",
          "text": [
            "predicted=1.000003, expected=1.000000\n",
            "predicted=1.000003, expected=1.000000\n",
            "predicted=1.000003, expected=1.000000\n",
            "predicted=1.000003, expected=1.000000\n",
            "predicted=1.000003, expected=1.000000\n",
            "predicted=1.000003, expected=1.000000\n",
            "predicted=1.000003, expected=1.000000\n",
            "predicted=1.000003, expected=1.000000\n",
            "predicted=1.000003, expected=1.000000\n",
            "predicted=1.000003, expected=1.000000\n",
            "predicted=1.000003, expected=1.000000\n",
            "predicted=1.000003, expected=1.000000\n",
            "predicted=1.000003, expected=1.000000\n",
            "predicted=1.000003, expected=1.000000\n",
            "predicted=1.000003, expected=1.000000\n",
            "predicted=1.000003, expected=1.000000\n",
            "predicted=1.000003, expected=1.000000\n",
            "predicted=1.000003, expected=1.000000\n",
            "predicted=1.000003, expected=1.000000\n",
            "predicted=1.000003, expected=1.000000\n",
            "predicted=1.000003, expected=1.000000\n",
            "predicted=1.000003, expected=1.000000\n",
            "predicted=1.000003, expected=1.000000\n",
            "predicted=1.000003, expected=1.000000\n",
            "predicted=1.000003, expected=1.000000\n",
            "predicted=1.000003, expected=1.000000\n",
            "predicted=1.000003, expected=1.000000\n",
            "predicted=1.000003, expected=1.000000\n",
            "predicted=1.000003, expected=1.000000\n",
            "predicted=1.000003, expected=1.000000\n",
            "predicted=1.000003, expected=1.000000\n",
            "predicted=1.000003, expected=1.000000\n",
            "predicted=1.000003, expected=1.000000\n",
            "predicted=1.000003, expected=1.000000\n",
            "predicted=1.000003, expected=1.000000\n",
            "predicted=1.000003, expected=1.000000\n",
            "predicted=1.000003, expected=1.000000\n",
            "predicted=1.000003, expected=1.000000\n",
            "predicted=1.000003, expected=1.000000\n",
            "predicted=1.000003, expected=1.000000\n",
            "predicted=1.000003, expected=1.000000\n",
            "predicted=1.000003, expected=1.000000\n",
            "predicted=1.000003, expected=1.000000\n",
            "predicted=1.000003, expected=1.000000\n",
            "predicted=1.000003, expected=1.000000\n",
            "predicted=1.000003, expected=1.000000\n",
            "predicted=1.000003, expected=1.000000\n",
            "predicted=1.000003, expected=1.000000\n",
            "predicted=1.000003, expected=1.000000\n",
            "predicted=1.000003, expected=1.000000\n",
            "predicted=1.000003, expected=1.000000\n",
            "predicted=1.000003, expected=1.000000\n",
            "predicted=1.000003, expected=1.000000\n",
            "predicted=1.000003, expected=1.000000\n",
            "predicted=1.000003, expected=1.000000\n",
            "predicted=1.000003, expected=1.000000\n",
            "predicted=1.000003, expected=1.000000\n",
            "predicted=1.000003, expected=1.000000\n",
            "predicted=1.000003, expected=1.000000\n",
            "predicted=1.000003, expected=1.000000\n",
            "predicted=1.000003, expected=1.000000\n",
            "predicted=1.000003, expected=1.000000\n",
            "predicted=1.000003, expected=1.000000\n",
            "predicted=1.000003, expected=1.000000\n",
            "predicted=1.000003, expected=1.000000\n",
            "predicted=1.000003, expected=1.000000\n",
            "predicted=1.000003, expected=1.000000\n",
            "predicted=1.000003, expected=1.000000\n",
            "predicted=1.000003, expected=1.000000\n",
            "predicted=1.000003, expected=1.000000\n",
            "predicted=1.000003, expected=1.000000\n",
            "predicted=1.000003, expected=1.000000\n",
            "predicted=1.000003, expected=1.000000\n",
            "predicted=1.000003, expected=1.000000\n",
            "predicted=1.000003, expected=1.000000\n",
            "predicted=1.000003, expected=1.000000\n",
            "predicted=1.000003, expected=1.000000\n"
          ],
          "name": "stdout"
        },
        {
          "output_type": "stream",
          "text": [
            "/usr/local/lib/python3.6/dist-packages/statsmodels/base/model.py:512: ConvergenceWarning: Maximum Likelihood optimization failed to converge. Check mle_retvals\n",
            "  \"Check mle_retvals\", ConvergenceWarning)\n"
          ],
          "name": "stderr"
        },
        {
          "output_type": "stream",
          "text": [
            "predicted=1.000003, expected=1.000000\n",
            "predicted=1.000003, expected=1.000000\n",
            "predicted=1.000003, expected=1.000000\n",
            "predicted=1.000003, expected=1.000000\n",
            "predicted=1.000003, expected=1.000000\n",
            "predicted=1.000003, expected=1.000000\n",
            "predicted=1.000003, expected=1.000000\n",
            "predicted=1.000003, expected=1.000000\n",
            "predicted=1.000003, expected=1.000000\n",
            "predicted=1.000003, expected=1.000000\n",
            "predicted=1.000003, expected=1.000000\n",
            "predicted=1.000003, expected=1.000000\n",
            "predicted=1.000003, expected=1.000000\n",
            "predicted=1.000003, expected=1.000000\n",
            "predicted=1.000003, expected=1.000000\n",
            "predicted=1.000003, expected=1.000000\n",
            "predicted=1.000003, expected=1.000000\n",
            "predicted=1.000003, expected=1.000000\n",
            "predicted=1.000003, expected=1.000000\n",
            "predicted=1.000003, expected=1.000000\n",
            "predicted=1.000003, expected=1.000000\n",
            "predicted=1.000003, expected=1.000000\n",
            "predicted=1.000003, expected=1.000000\n",
            "predicted=1.000003, expected=1.000000\n",
            "predicted=1.000003, expected=1.000000\n",
            "predicted=1.000003, expected=1.000000\n",
            "predicted=1.000003, expected=1.000000\n",
            "predicted=1.000003, expected=1.000000\n",
            "predicted=1.000003, expected=1.000000\n",
            "predicted=1.000003, expected=1.000000\n",
            "predicted=1.000003, expected=1.000000\n",
            "predicted=1.000003, expected=1.000000\n",
            "predicted=1.000003, expected=1.000000\n",
            "predicted=1.000003, expected=1.000000\n",
            "predicted=1.000003, expected=1.000000\n",
            "predicted=1.000003, expected=1.000000\n",
            "predicted=1.000003, expected=1.000000\n",
            "predicted=1.000003, expected=1.000000\n",
            "predicted=1.000003, expected=1.000000\n",
            "predicted=1.000003, expected=1.000000\n",
            "predicted=1.000003, expected=1.000000\n",
            "predicted=1.000003, expected=1.000000\n",
            "predicted=1.000003, expected=1.000000\n",
            "predicted=1.000003, expected=1.000000\n",
            "predicted=1.000003, expected=1.000000\n",
            "predicted=1.000003, expected=1.000000\n",
            "predicted=1.000003, expected=1.000000\n",
            "predicted=1.000003, expected=1.000000\n",
            "predicted=1.000003, expected=1.000000\n",
            "predicted=1.000003, expected=1.000000\n",
            "predicted=1.000003, expected=1.000000\n",
            "predicted=1.000003, expected=1.000000\n",
            "predicted=1.000003, expected=1.000000\n",
            "predicted=1.000003, expected=1.000000\n",
            "predicted=1.000003, expected=1.000000\n",
            "predicted=1.000003, expected=1.000000\n",
            "predicted=1.000003, expected=1.000000\n",
            "predicted=1.000003, expected=1.000000\n",
            "predicted=1.000003, expected=1.000000\n",
            "predicted=1.000003, expected=1.000000\n",
            "predicted=1.000003, expected=1.000000\n",
            "predicted=1.000003, expected=1.000000\n",
            "predicted=1.000003, expected=1.000000\n",
            "predicted=1.000003, expected=1.000000\n",
            "predicted=1.000003, expected=1.000000\n",
            "predicted=1.000003, expected=1.000000\n",
            "predicted=1.000003, expected=1.000000\n",
            "predicted=1.000003, expected=1.000000\n",
            "predicted=1.000003, expected=1.000000\n",
            "predicted=1.000003, expected=1.000000\n",
            "predicted=1.000003, expected=1.000000\n",
            "predicted=1.000003, expected=1.000000\n",
            "predicted=1.000003, expected=1.000000\n",
            "predicted=1.000003, expected=1.000000\n",
            "predicted=1.000003, expected=1.000000\n",
            "predicted=1.000003, expected=1.000000\n",
            "predicted=1.000003, expected=1.000000\n",
            "predicted=1.000003, expected=1.000000\n",
            "predicted=1.000003, expected=1.000000\n",
            "predicted=1.000003, expected=1.000000\n",
            "predicted=1.000003, expected=1.000000\n",
            "predicted=1.000003, expected=1.000000\n",
            "predicted=1.000003, expected=1.000000\n",
            "predicted=1.000003, expected=1.000000\n",
            "predicted=1.000003, expected=1.000000\n",
            "predicted=1.000003, expected=1.000000\n",
            "predicted=1.000003, expected=1.000000\n",
            "predicted=1.000003, expected=1.000000\n",
            "predicted=1.000003, expected=1.000000\n",
            "predicted=1.000003, expected=1.000000\n",
            "predicted=1.000003, expected=1.000000\n",
            "predicted=1.000003, expected=1.000000\n",
            "predicted=1.000003, expected=1.000000\n",
            "predicted=1.000003, expected=1.000000\n",
            "predicted=1.000003, expected=1.000000\n",
            "predicted=1.000003, expected=1.000000\n"
          ],
          "name": "stdout"
        }
      ]
    },
    {
      "cell_type": "code",
      "metadata": {
        "id": "1rzQmtJXRGCM",
        "colab_type": "code",
        "colab": {}
      },
      "source": [
        ""
      ],
      "execution_count": 0,
      "outputs": []
    }
  ]
}