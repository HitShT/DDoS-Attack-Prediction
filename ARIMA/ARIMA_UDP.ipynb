{
  "nbformat": 4,
  "nbformat_minor": 0,
  "metadata": {
    "colab": {
      "name": "ARIMA UDP",
      "provenance": []
    },
    "kernelspec": {
      "name": "python3",
      "display_name": "Python 3"
    }
  },
  "cells": [
    {
      "cell_type": "code",
      "metadata": {
        "id": "bvtpL7dE-rSK",
        "colab_type": "code",
        "outputId": "c251832c-0dd5-4105-a860-e5eaa4cc2e7a",
        "colab": {
          "base_uri": "https://localhost:8080/",
          "height": 130
        }
      },
      "source": [
        "from google.colab import drive\n",
        "drive.mount('/content/drive')"
      ],
      "execution_count": 0,
      "outputs": [
        {
          "output_type": "stream",
          "text": [
            "Go to this URL in a browser: https://accounts.google.com/o/oauth2/auth?client_id=947318989803-6bn6qk8qdgf4n4g3pfee6491hc0brc4i.apps.googleusercontent.com&redirect_uri=urn%3Aietf%3Awg%3Aoauth%3A2.0%3Aoob&scope=email%20https%3A%2F%2Fwww.googleapis.com%2Fauth%2Fdocs.test%20https%3A%2F%2Fwww.googleapis.com%2Fauth%2Fdrive%20https%3A%2F%2Fwww.googleapis.com%2Fauth%2Fdrive.photos.readonly%20https%3A%2F%2Fwww.googleapis.com%2Fauth%2Fpeopleapi.readonly&response_type=code\n",
            "\n",
            "Enter your authorization code:\n",
            "··········\n",
            "Mounted at /content/drive\n"
          ],
          "name": "stdout"
        }
      ]
    },
    {
      "cell_type": "code",
      "metadata": {
        "id": "x8gHO0AISWNm",
        "colab_type": "code",
        "colab": {}
      },
      "source": [
        "import numpy as np"
      ],
      "execution_count": 0,
      "outputs": []
    },
    {
      "cell_type": "code",
      "metadata": {
        "id": "6Kky_Yql-sbv",
        "colab_type": "code",
        "outputId": "47099836-06c8-4d48-92d6-39a15740bd89",
        "colab": {
          "base_uri": "https://localhost:8080/",
          "height": 454
        }
      },
      "source": [
        "import pandas as pd\n",
        "dataset = pd.read_csv(\"/content/drive/My Drive/Datasets: Cyber/Uncensored/UDP.csv\")\n",
        "dataset.head()"
      ],
      "execution_count": 0,
      "outputs": [
        {
          "output_type": "stream",
          "text": [
            "/usr/local/lib/python3.6/dist-packages/IPython/core/interactiveshell.py:2718: DtypeWarning: Columns (20) have mixed types. Specify dtype option on import or set low_memory=False.\n",
            "  interactivity=interactivity, compiler=compiler, result=result)\n"
          ],
          "name": "stderr"
        },
        {
          "output_type": "execute_result",
          "data": {
            "text/html": [
              "<div>\n",
              "<style scoped>\n",
              "    .dataframe tbody tr th:only-of-type {\n",
              "        vertical-align: middle;\n",
              "    }\n",
              "\n",
              "    .dataframe tbody tr th {\n",
              "        vertical-align: top;\n",
              "    }\n",
              "\n",
              "    .dataframe thead th {\n",
              "        text-align: right;\n",
              "    }\n",
              "</style>\n",
              "<table border=\"1\" class=\"dataframe\">\n",
              "  <thead>\n",
              "    <tr style=\"text-align: right;\">\n",
              "      <th></th>\n",
              "      <th>Date</th>\n",
              "      <th>UTC Time</th>\n",
              "      <th>Time</th>\n",
              "      <th>Relative Time</th>\n",
              "      <th>Absolute Time</th>\n",
              "      <th>Delta Time</th>\n",
              "      <th>Source</th>\n",
              "      <th>Destination</th>\n",
              "      <th>Protocol</th>\n",
              "      <th>Length</th>\n",
              "      <th>Info</th>\n",
              "      <th>SourcePort</th>\n",
              "      <th>DestPort</th>\n",
              "      <th>Cumulative Bytes</th>\n",
              "      <th>Hwdestaddr</th>\n",
              "      <th>Hwsrcaddr</th>\n",
              "      <th>Unresolved Destport</th>\n",
              "      <th>Unresolved Srcport</th>\n",
              "      <th>NetSrcAddr</th>\n",
              "      <th>NetDestAddr</th>\n",
              "      <th>ExpertInfo</th>\n",
              "      <th>Class</th>\n",
              "    </tr>\n",
              "  </thead>\n",
              "  <tbody>\n",
              "    <tr>\n",
              "      <th>0</th>\n",
              "      <td>18-03-2017 13:11</td>\n",
              "      <td>13:11:23</td>\n",
              "      <td>0.000000</td>\n",
              "      <td>0.000000</td>\n",
              "      <td>18:41:23</td>\n",
              "      <td>0.000000</td>\n",
              "      <td>192.168.100.13</td>\n",
              "      <td>192.168.60.6</td>\n",
              "      <td>UDP</td>\n",
              "      <td>42</td>\n",
              "      <td>55951  &gt;  53 Len=0</td>\n",
              "      <td>55951.0</td>\n",
              "      <td>53.0</td>\n",
              "      <td>42</td>\n",
              "      <td>fa:16:3e:66:6e:87</td>\n",
              "      <td>fa:16:3e:f2:5a:f7</td>\n",
              "      <td>53.0</td>\n",
              "      <td>55951.0</td>\n",
              "      <td>192.168.100.13</td>\n",
              "      <td>192.168.60.6</td>\n",
              "      <td>NaN</td>\n",
              "      <td>UDPFlood</td>\n",
              "    </tr>\n",
              "    <tr>\n",
              "      <th>1</th>\n",
              "      <td>18-03-2017 13:11</td>\n",
              "      <td>13:11:23</td>\n",
              "      <td>0.000027</td>\n",
              "      <td>0.000027</td>\n",
              "      <td>18:41:23</td>\n",
              "      <td>0.000027</td>\n",
              "      <td>192.168.100.9</td>\n",
              "      <td>192.168.60.6</td>\n",
              "      <td>UDP</td>\n",
              "      <td>42</td>\n",
              "      <td>37240  &gt;  53 Len=0</td>\n",
              "      <td>37240.0</td>\n",
              "      <td>53.0</td>\n",
              "      <td>84</td>\n",
              "      <td>fa:16:3e:66:6e:87</td>\n",
              "      <td>fa:16:3e:f2:5a:f7</td>\n",
              "      <td>53.0</td>\n",
              "      <td>37240.0</td>\n",
              "      <td>192.168.100.9</td>\n",
              "      <td>192.168.60.6</td>\n",
              "      <td>NaN</td>\n",
              "      <td>UDPFlood</td>\n",
              "    </tr>\n",
              "    <tr>\n",
              "      <th>2</th>\n",
              "      <td>18-03-2017 13:11</td>\n",
              "      <td>13:11:23</td>\n",
              "      <td>0.000052</td>\n",
              "      <td>0.000052</td>\n",
              "      <td>18:41:23</td>\n",
              "      <td>0.000025</td>\n",
              "      <td>192.168.100.13</td>\n",
              "      <td>192.168.60.6</td>\n",
              "      <td>UDP</td>\n",
              "      <td>42</td>\n",
              "      <td>55952  &gt;  53 Len=0</td>\n",
              "      <td>55952.0</td>\n",
              "      <td>53.0</td>\n",
              "      <td>126</td>\n",
              "      <td>fa:16:3e:66:6e:87</td>\n",
              "      <td>fa:16:3e:f2:5a:f7</td>\n",
              "      <td>53.0</td>\n",
              "      <td>55952.0</td>\n",
              "      <td>192.168.100.13</td>\n",
              "      <td>192.168.60.6</td>\n",
              "      <td>NaN</td>\n",
              "      <td>UDPFlood</td>\n",
              "    </tr>\n",
              "    <tr>\n",
              "      <th>3</th>\n",
              "      <td>18-03-2017 13:11</td>\n",
              "      <td>13:11:23</td>\n",
              "      <td>0.000078</td>\n",
              "      <td>0.000078</td>\n",
              "      <td>18:41:23</td>\n",
              "      <td>0.000026</td>\n",
              "      <td>192.168.100.15</td>\n",
              "      <td>192.168.60.6</td>\n",
              "      <td>UDP</td>\n",
              "      <td>42</td>\n",
              "      <td>63011  &gt;  53 Len=0</td>\n",
              "      <td>63011.0</td>\n",
              "      <td>53.0</td>\n",
              "      <td>168</td>\n",
              "      <td>fa:16:3e:66:6e:87</td>\n",
              "      <td>fa:16:3e:f2:5a:f7</td>\n",
              "      <td>53.0</td>\n",
              "      <td>63011.0</td>\n",
              "      <td>192.168.100.15</td>\n",
              "      <td>192.168.60.6</td>\n",
              "      <td>NaN</td>\n",
              "      <td>UDPFlood</td>\n",
              "    </tr>\n",
              "    <tr>\n",
              "      <th>4</th>\n",
              "      <td>18-03-2017 13:11</td>\n",
              "      <td>13:11:23</td>\n",
              "      <td>0.000104</td>\n",
              "      <td>0.000104</td>\n",
              "      <td>18:41:23</td>\n",
              "      <td>0.000026</td>\n",
              "      <td>192.168.100.15</td>\n",
              "      <td>192.168.60.6</td>\n",
              "      <td>UDP</td>\n",
              "      <td>42</td>\n",
              "      <td>63012  &gt;  53 Len=0</td>\n",
              "      <td>63012.0</td>\n",
              "      <td>53.0</td>\n",
              "      <td>210</td>\n",
              "      <td>fa:16:3e:66:6e:87</td>\n",
              "      <td>fa:16:3e:f2:5a:f7</td>\n",
              "      <td>53.0</td>\n",
              "      <td>63012.0</td>\n",
              "      <td>192.168.100.15</td>\n",
              "      <td>192.168.60.6</td>\n",
              "      <td>NaN</td>\n",
              "      <td>UDPFlood</td>\n",
              "    </tr>\n",
              "  </tbody>\n",
              "</table>\n",
              "</div>"
            ],
            "text/plain": [
              "               Date  UTC Time      Time  ...   NetDestAddr ExpertInfo     Class\n",
              "0  18-03-2017 13:11  13:11:23  0.000000  ...  192.168.60.6        NaN  UDPFlood\n",
              "1  18-03-2017 13:11  13:11:23  0.000027  ...  192.168.60.6        NaN  UDPFlood\n",
              "2  18-03-2017 13:11  13:11:23  0.000052  ...  192.168.60.6        NaN  UDPFlood\n",
              "3  18-03-2017 13:11  13:11:23  0.000078  ...  192.168.60.6        NaN  UDPFlood\n",
              "4  18-03-2017 13:11  13:11:23  0.000104  ...  192.168.60.6        NaN  UDPFlood\n",
              "\n",
              "[5 rows x 22 columns]"
            ]
          },
          "metadata": {
            "tags": []
          },
          "execution_count": 3
        }
      ]
    },
    {
      "cell_type": "code",
      "metadata": {
        "id": "C0Bke_Fi_Apf",
        "colab_type": "code",
        "colab": {}
      },
      "source": [
        "dataset[\"Date\"]=pd.to_datetime(dataset[\"Date\"])"
      ],
      "execution_count": 0,
      "outputs": []
    },
    {
      "cell_type": "code",
      "metadata": {
        "id": "MpwHy7ZI_QFQ",
        "colab_type": "code",
        "colab": {}
      },
      "source": [
        "li=[]\n",
        "for i in dataset:\n",
        "  li.append(i)"
      ],
      "execution_count": 0,
      "outputs": []
    },
    {
      "cell_type": "code",
      "metadata": {
        "id": "qX-ZyKgd_n8I",
        "colab_type": "code",
        "colab": {}
      },
      "source": [
        "li=li[1:-1]"
      ],
      "execution_count": 0,
      "outputs": []
    },
    {
      "cell_type": "code",
      "metadata": {
        "id": "LqZAl9NB_v9n",
        "colab_type": "code",
        "colab": {}
      },
      "source": [
        "dataset=dataset.drop(li,axis=1)"
      ],
      "execution_count": 0,
      "outputs": []
    },
    {
      "cell_type": "code",
      "metadata": {
        "id": "mJy1jp0SALjj",
        "colab_type": "code",
        "outputId": "9ba2a25e-2c92-4eb6-9f6e-9e702bcc1236",
        "colab": {
          "base_uri": "https://localhost:8080/",
          "height": 206
        }
      },
      "source": [
        "dataset.head()"
      ],
      "execution_count": 0,
      "outputs": [
        {
          "output_type": "execute_result",
          "data": {
            "text/html": [
              "<div>\n",
              "<style scoped>\n",
              "    .dataframe tbody tr th:only-of-type {\n",
              "        vertical-align: middle;\n",
              "    }\n",
              "\n",
              "    .dataframe tbody tr th {\n",
              "        vertical-align: top;\n",
              "    }\n",
              "\n",
              "    .dataframe thead th {\n",
              "        text-align: right;\n",
              "    }\n",
              "</style>\n",
              "<table border=\"1\" class=\"dataframe\">\n",
              "  <thead>\n",
              "    <tr style=\"text-align: right;\">\n",
              "      <th></th>\n",
              "      <th>Date</th>\n",
              "      <th>Class</th>\n",
              "    </tr>\n",
              "  </thead>\n",
              "  <tbody>\n",
              "    <tr>\n",
              "      <th>0</th>\n",
              "      <td>2017-03-18 13:11:00</td>\n",
              "      <td>UDPFlood</td>\n",
              "    </tr>\n",
              "    <tr>\n",
              "      <th>1</th>\n",
              "      <td>2017-03-18 13:11:00</td>\n",
              "      <td>UDPFlood</td>\n",
              "    </tr>\n",
              "    <tr>\n",
              "      <th>2</th>\n",
              "      <td>2017-03-18 13:11:00</td>\n",
              "      <td>UDPFlood</td>\n",
              "    </tr>\n",
              "    <tr>\n",
              "      <th>3</th>\n",
              "      <td>2017-03-18 13:11:00</td>\n",
              "      <td>UDPFlood</td>\n",
              "    </tr>\n",
              "    <tr>\n",
              "      <th>4</th>\n",
              "      <td>2017-03-18 13:11:00</td>\n",
              "      <td>UDPFlood</td>\n",
              "    </tr>\n",
              "  </tbody>\n",
              "</table>\n",
              "</div>"
            ],
            "text/plain": [
              "                 Date     Class\n",
              "0 2017-03-18 13:11:00  UDPFlood\n",
              "1 2017-03-18 13:11:00  UDPFlood\n",
              "2 2017-03-18 13:11:00  UDPFlood\n",
              "3 2017-03-18 13:11:00  UDPFlood\n",
              "4 2017-03-18 13:11:00  UDPFlood"
            ]
          },
          "metadata": {
            "tags": []
          },
          "execution_count": 8
        }
      ]
    },
    {
      "cell_type": "code",
      "metadata": {
        "id": "DJo9gBNJ_0_H",
        "colab_type": "code",
        "colab": {}
      },
      "source": [
        "import matplotlib.pyplot as plt"
      ],
      "execution_count": 0,
      "outputs": []
    },
    {
      "cell_type": "code",
      "metadata": {
        "id": "H6zlYcQ7ACpz",
        "colab_type": "code",
        "outputId": "7a4341fd-7e5c-492f-902b-b4fd7dcea798",
        "colab": {
          "base_uri": "https://localhost:8080/",
          "height": 420
        }
      },
      "source": [
        "plt.plot(dataset[\"Date\"].tolist(),dataset[\"Class\"].tolist())"
      ],
      "execution_count": 0,
      "outputs": [
        {
          "output_type": "stream",
          "text": [
            "/usr/local/lib/python3.6/dist-packages/pandas/plotting/_converter.py:129: FutureWarning: Using an implicitly registered datetime converter for a matplotlib plotting method. The converter was registered by pandas on import. Future versions of pandas will require you to explicitly register matplotlib converters.\n",
            "\n",
            "To register the converters:\n",
            "\t>>> from pandas.plotting import register_matplotlib_converters\n",
            "\t>>> register_matplotlib_converters()\n",
            "  warnings.warn(msg, FutureWarning)\n"
          ],
          "name": "stderr"
        },
        {
          "output_type": "execute_result",
          "data": {
            "text/plain": [
              "[<matplotlib.lines.Line2D at 0x7f5fdd3c8400>]"
            ]
          },
          "metadata": {
            "tags": []
          },
          "execution_count": 10
        },
        {
          "output_type": "display_data",
          "data": {
            "image/png": "[encoded data removed]",
            "text/plain": [
              "<Figure size 432x288 with 1 Axes>"
            ]
          },
          "metadata": {
            "tags": []
          }
        }
      ]
    },
    {
      "cell_type": "code",
      "metadata": {
        "id": "4t0VarEVA2QB",
        "colab_type": "code",
        "colab": {}
      },
      "source": [
        "from pandas import read_csv\n",
        "from pandas import datetime\n",
        "from matplotlib import pyplot\n",
        "from statsmodels.tsa.arima_model import ARIMA\n",
        "from sklearn.metrics import mean_squared_error"
      ],
      "execution_count": 0,
      "outputs": []
    },
    {
      "cell_type": "code",
      "metadata": {
        "id": "jcWK2_ynMWO6",
        "colab_type": "code",
        "outputId": "603e2926-0a4a-4a25-d30c-7bc81cba5dc1",
        "colab": {
          "base_uri": "https://localhost:8080/",
          "height": 36
        }
      },
      "source": [
        "type(dataset[\"Class\"])"
      ],
      "execution_count": 0,
      "outputs": [
        {
          "output_type": "execute_result",
          "data": {
            "text/plain": [
              "pandas.core.series.Series"
            ]
          },
          "metadata": {
            "tags": []
          },
          "execution_count": 12
        }
      ]
    },
    {
      "cell_type": "code",
      "metadata": {
        "id": "0boefC75Kjzs",
        "colab_type": "code",
        "colab": {}
      },
      "source": [
        "from sklearn import preprocessing\n",
        "le = preprocessing.LabelEncoder()\n",
        "dataset[\"Class\"]=le.fit_transform(dataset[\"Class\"])"
      ],
      "execution_count": 0,
      "outputs": []
    },
    {
      "cell_type": "code",
      "metadata": {
        "id": "VkzvUOTDKHTT",
        "colab_type": "code",
        "colab": {}
      },
      "source": [
        "dataset.reindex(np.random.permutation(dataset.index))\n",
        "data = pd.Series(dataset[\"Class\"].values, index=dataset[\"Date\"].values)"
      ],
      "execution_count": 0,
      "outputs": []
    },
    {
      "cell_type": "code",
      "metadata": {
        "id": "Cy7H98_eMhyK",
        "colab_type": "code",
        "colab": {}
      },
      "source": [
        "size = int(len(data) * 0.94)\n",
        "train, test = data[:size], data[size:]"
      ],
      "execution_count": 0,
      "outputs": []
    },
    {
      "cell_type": "code",
      "metadata": {
        "id": "nQMDR6AGTRyU",
        "colab_type": "code",
        "outputId": "370b89b5-074c-4a0a-976f-300d1a830a52",
        "colab": {
          "base_uri": "https://localhost:8080/",
          "height": 1000
        }
      },
      "source": [
        "train"
      ],
      "execution_count": 0,
      "outputs": [
        {
          "output_type": "execute_result",
          "data": {
            "text/plain": [
              "2017-03-18 13:11:00    0\n",
              "2017-03-18 13:11:00    0\n",
              "2017-03-18 13:11:00    0\n",
              "2017-03-18 13:11:00    0\n",
              "2017-03-18 13:11:00    0\n",
              "2017-03-18 13:11:00    0\n",
              "2017-03-18 13:11:00    0\n",
              "2017-03-18 13:11:00    0\n",
              "2017-03-18 13:11:00    0\n",
              "2017-03-18 13:11:00    0\n",
              "2017-03-18 13:11:00    0\n",
              "2017-03-18 13:11:00    0\n",
              "2017-03-18 13:11:00    0\n",
              "2017-03-18 13:11:00    0\n",
              "2017-03-18 13:11:00    0\n",
              "2017-03-18 13:11:00    0\n",
              "2017-03-18 13:11:00    0\n",
              "2017-03-18 13:11:00    0\n",
              "2017-03-18 13:11:00    0\n",
              "2017-03-18 13:11:00    0\n",
              "2017-03-18 13:11:00    0\n",
              "2017-03-18 13:11:00    0\n",
              "2017-03-18 13:11:00    0\n",
              "2017-03-18 13:11:00    0\n",
              "2017-03-18 13:11:00    0\n",
              "2017-03-18 13:11:00    0\n",
              "2017-03-18 13:11:00    0\n",
              "2017-03-18 13:11:00    0\n",
              "2017-03-18 13:11:00    0\n",
              "2017-03-18 13:11:00    0\n",
              "                      ..\n",
              "2017-07-28 08:16:00    1\n",
              "2017-07-28 08:16:00    1\n",
              "2017-07-28 08:16:00    1\n",
              "2017-07-28 08:16:00    1\n",
              "2017-07-28 08:16:00    1\n",
              "2017-07-28 08:16:00    1\n",
              "2017-07-28 08:16:00    1\n",
              "2017-07-28 08:16:00    1\n",
              "2017-07-28 08:16:00    1\n",
              "2017-07-28 08:16:00    1\n",
              "2017-07-28 08:16:00    1\n",
              "2017-07-28 08:16:00    1\n",
              "2017-07-28 08:16:00    1\n",
              "2017-07-28 08:16:00    1\n",
              "2017-07-28 08:16:00    1\n",
              "2017-07-28 08:16:00    1\n",
              "2017-07-28 08:16:00    1\n",
              "2017-07-28 08:16:00    1\n",
              "2017-07-28 08:16:00    1\n",
              "2017-07-28 08:16:00    1\n",
              "2017-07-28 08:16:00    1\n",
              "2017-07-28 08:16:00    1\n",
              "2017-07-28 08:16:00    1\n",
              "2017-07-28 08:16:00    1\n",
              "2017-07-28 08:16:00    1\n",
              "2017-07-28 08:16:00    1\n",
              "2017-07-28 08:16:00    1\n",
              "2017-07-28 08:16:00    1\n",
              "2017-07-28 08:16:00    1\n",
              "2017-07-28 08:16:00    1\n",
              "Length: 352500, dtype: int64"
            ]
          },
          "metadata": {
            "tags": []
          },
          "execution_count": 16
        }
      ]
    },
    {
      "cell_type": "code",
      "metadata": {
        "id": "z8Fr6Iv6QZ8a",
        "colab_type": "code",
        "colab": {}
      },
      "source": [
        "history=[x for x in train]"
      ],
      "execution_count": 0,
      "outputs": []
    },
    {
      "cell_type": "code",
      "metadata": {
        "id": "rNg8LtXHQ8H4",
        "colab_type": "code",
        "outputId": "57638192-002c-4845-d573-bf42dcc71818",
        "colab": {
          "base_uri": "https://localhost:8080/",
          "height": 1000
        }
      },
      "source": [
        "predictions = list()\n",
        "for t in range(len(test)):\n",
        "\tmodel = ARIMA(history, order=(5,1,0))\n",
        "\tmodel_fit = model.fit(disp=0)\n",
        "\toutput = model_fit.forecast()\n",
        "\tyhat = output[0]\n",
        "\tpredictions.append(yhat)\n",
        "\tobs = test[t]\n",
        "\thistory.append(obs)\n",
        "\tprint('predicted=%f, expected=%f' % (yhat, obs))"
      ],
      "execution_count": 0,
      "outputs": [
        {
          "output_type": "stream",
          "text": [
            "predicted=1.000003, expected=1.000000\n",
            "predicted=1.000003, expected=1.000000\n",
            "predicted=1.000003, expected=1.000000\n",
            "predicted=1.000003, expected=1.000000\n",
            "predicted=1.000003, expected=1.000000\n",
            "predicted=1.000003, expected=1.000000\n",
            "predicted=1.000003, expected=1.000000\n",
            "predicted=1.000003, expected=1.000000\n",
            "predicted=1.000003, expected=1.000000\n",
            "predicted=1.000003, expected=1.000000\n",
            "predicted=1.000003, expected=1.000000\n",
            "predicted=1.000003, expected=1.000000\n",
            "predicted=1.000003, expected=1.000000\n",
            "predicted=1.000003, expected=1.000000\n",
            "predicted=1.000003, expected=1.000000\n",
            "predicted=1.000003, expected=1.000000\n",
            "predicted=1.000003, expected=1.000000\n",
            "predicted=1.000003, expected=1.000000\n",
            "predicted=1.000003, expected=1.000000\n",
            "predicted=1.000003, expected=1.000000\n",
            "predicted=1.000003, expected=1.000000\n",
            "predicted=1.000003, expected=1.000000\n",
            "predicted=1.000003, expected=1.000000\n",
            "predicted=1.000003, expected=1.000000\n",
            "predicted=1.000003, expected=1.000000\n",
            "predicted=1.000003, expected=1.000000\n",
            "predicted=1.000003, expected=1.000000\n",
            "predicted=1.000003, expected=1.000000\n",
            "predicted=1.000003, expected=1.000000\n",
            "predicted=1.000003, expected=1.000000\n",
            "predicted=1.000003, expected=1.000000\n",
            "predicted=1.000003, expected=1.000000\n",
            "predicted=1.000003, expected=1.000000\n",
            "predicted=1.000003, expected=1.000000\n",
            "predicted=1.000003, expected=1.000000\n",
            "predicted=1.000003, expected=1.000000\n",
            "predicted=1.000003, expected=1.000000\n",
            "predicted=1.000003, expected=1.000000\n",
            "predicted=1.000003, expected=1.000000\n",
            "predicted=1.000003, expected=1.000000\n",
            "predicted=1.000003, expected=1.000000\n",
            "predicted=1.000003, expected=1.000000\n",
            "predicted=1.000003, expected=1.000000\n",
            "predicted=1.000003, expected=1.000000\n",
            "predicted=1.000003, expected=1.000000\n",
            "predicted=1.000003, expected=1.000000\n",
            "predicted=1.000003, expected=1.000000\n",
            "predicted=1.000003, expected=1.000000\n",
            "predicted=1.000003, expected=1.000000\n",
            "predicted=1.000003, expected=1.000000\n",
            "predicted=1.000003, expected=1.000000\n",
            "predicted=1.000003, expected=1.000000\n",
            "predicted=1.000003, expected=1.000000\n",
            "predicted=1.000003, expected=1.000000\n",
            "predicted=1.000003, expected=1.000000\n",
            "predicted=1.000003, expected=1.000000\n",
            "predicted=1.000003, expected=1.000000\n",
            "predicted=1.000003, expected=1.000000\n",
            "predicted=1.000003, expected=1.000000\n",
            "predicted=1.000003, expected=1.000000\n",
            "predicted=1.000003, expected=1.000000\n",
            "predicted=1.000003, expected=1.000000\n",
            "predicted=1.000003, expected=1.000000\n",
            "predicted=1.000003, expected=1.000000\n",
            "predicted=1.000003, expected=1.000000\n",
            "predicted=1.000003, expected=1.000000\n",
            "predicted=1.000003, expected=1.000000\n",
            "predicted=1.000003, expected=1.000000\n",
            "predicted=1.000003, expected=1.000000\n",
            "predicted=1.000003, expected=1.000000\n",
            "predicted=1.000003, expected=1.000000\n",
            "predicted=1.000003, expected=1.000000\n",
            "predicted=1.000003, expected=1.000000\n",
            "predicted=1.000003, expected=1.000000\n",
            "predicted=1.000003, expected=1.000000\n",
            "predicted=1.000003, expected=1.000000\n",
            "predicted=1.000003, expected=1.000000\n",
            "predicted=1.000003, expected=1.000000\n",
            "predicted=1.000003, expected=1.000000\n",
            "predicted=1.000003, expected=1.000000\n",
            "predicted=1.000003, expected=1.000000\n",
            "predicted=1.000003, expected=1.000000\n",
            "predicted=1.000003, expected=1.000000\n",
            "predicted=1.000003, expected=1.000000\n",
            "predicted=1.000003, expected=1.000000\n",
            "predicted=1.000003, expected=1.000000\n",
            "predicted=1.000003, expected=1.000000\n",
            "predicted=1.000003, expected=1.000000\n",
            "predicted=1.000003, expected=1.000000\n",
            "predicted=1.000003, expected=1.000000\n",
            "predicted=1.000003, expected=1.000000\n",
            "predicted=1.000003, expected=1.000000\n",
            "predicted=1.000003, expected=1.000000\n",
            "predicted=1.000003, expected=1.000000\n",
            "predicted=1.000003, expected=1.000000\n",
            "predicted=1.000003, expected=1.000000\n",
            "predicted=1.000003, expected=1.000000\n",
            "predicted=1.000003, expected=1.000000\n",
            "predicted=1.000003, expected=1.000000\n",
            "predicted=1.000003, expected=1.000000\n",
            "predicted=1.000003, expected=1.000000\n",
            "predicted=1.000003, expected=1.000000\n",
            "predicted=1.000003, expected=1.000000\n",
            "predicted=1.000003, expected=1.000000\n",
            "predicted=1.000003, expected=1.000000\n",
            "predicted=1.000003, expected=1.000000\n",
            "predicted=1.000003, expected=1.000000\n",
            "predicted=1.000003, expected=1.000000\n",
            "predicted=1.000003, expected=1.000000\n",
            "predicted=1.000003, expected=1.000000\n",
            "predicted=1.000003, expected=1.000000\n",
            "predicted=1.000003, expected=1.000000\n",
            "predicted=1.000003, expected=1.000000\n",
            "predicted=1.000003, expected=1.000000\n",
            "predicted=1.000003, expected=1.000000\n",
            "predicted=1.000003, expected=1.000000\n",
            "predicted=1.000003, expected=1.000000\n",
            "predicted=1.000003, expected=1.000000\n",
            "predicted=1.000003, expected=1.000000\n",
            "predicted=1.000003, expected=1.000000\n",
            "predicted=1.000003, expected=1.000000\n",
            "predicted=1.000003, expected=1.000000\n",
            "predicted=1.000003, expected=1.000000\n",
            "predicted=1.000003, expected=1.000000\n",
            "predicted=1.000003, expected=1.000000\n",
            "predicted=1.000003, expected=1.000000\n",
            "predicted=1.000003, expected=1.000000\n",
            "predicted=1.000003, expected=1.000000\n",
            "predicted=1.000003, expected=1.000000\n",
            "predicted=1.000003, expected=1.000000\n",
            "predicted=1.000003, expected=1.000000\n",
            "predicted=1.000003, expected=1.000000\n",
            "predicted=1.000003, expected=1.000000\n",
            "predicted=1.000003, expected=1.000000\n",
            "predicted=1.000003, expected=1.000000\n",
            "predicted=1.000003, expected=1.000000\n",
            "predicted=1.000003, expected=1.000000\n",
            "predicted=1.000003, expected=1.000000\n",
            "predicted=1.000003, expected=1.000000\n",
            "predicted=1.000003, expected=1.000000\n",
            "predicted=1.000003, expected=1.000000\n",
            "predicted=1.000003, expected=1.000000\n",
            "predicted=1.000003, expected=1.000000\n",
            "predicted=1.000003, expected=1.000000\n",
            "predicted=1.000003, expected=1.000000\n",
            "predicted=1.000003, expected=1.000000\n",
            "predicted=1.000003, expected=1.000000\n",
            "predicted=1.000003, expected=1.000000\n",
            "predicted=1.000003, expected=1.000000\n",
            "predicted=1.000003, expected=1.000000\n",
            "predicted=1.000003, expected=1.000000\n",
            "predicted=1.000003, expected=1.000000\n"
          ],
          "name": "stdout"
        }
      ]
    },
    {
      "cell_type": "code",
      "metadata": {
        "id": "1rzQmtJXRGCM",
        "colab_type": "code",
        "colab": {}
      },
      "source": [
        ""
      ],
      "execution_count": 0,
      "outputs": []
    }
  ]
}