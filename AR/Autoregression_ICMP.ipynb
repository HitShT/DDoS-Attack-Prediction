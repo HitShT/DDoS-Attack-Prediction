{
  "nbformat": 4,
  "nbformat_minor": 0,
  "metadata": {
    "colab": {
      "name": "Autoregression-ICMP",
      "provenance": []
    },
    "kernelspec": {
      "name": "python3",
      "display_name": "Python 3"
    }
  },
  "cells": [
    {
      "cell_type": "markdown",
      "metadata": {
        "id": "0dnPQQIimsRH",
        "colab_type": "text"
      },
      "source": [
        "Auto Regression (From Wikipedia :https://en.wikipedia.org/wiki/Autoregressive_model ):\n",
        "\n",
        "The autoregressive model specifies that the output variable depends linearly on its **own previous values ** and on a stochastic term \n",
        "\n",
        "So we just need 2 columns, a time column and its value column"
      ]
    },
    {
      "cell_type": "code",
      "metadata": {
        "id": "1RX7-Vl0EXry",
        "colab_type": "code",
        "outputId": "e35a80f7-9451-4f82-9c73-c0f05ff088ae",
        "colab": {
          "base_uri": "https://localhost:8080/",
          "height": 128
        }
      },
      "source": [
        "from google.colab import drive\n",
        "drive.mount(\"/content/drive\",force_remount=True)"
      ],
      "execution_count": 0,
      "outputs": [
        {
          "output_type": "stream",
          "text": [
            "Go to this URL in a browser: https://accounts.google.com/o/oauth2/auth?client_id=947318989803-6bn6qk8qdgf4n4g3pfee6491hc0brc4i.apps.googleusercontent.com&redirect_uri=urn%3Aietf%3Awg%3Aoauth%3A2.0%3Aoob&scope=email%20https%3A%2F%2Fwww.googleapis.com%2Fauth%2Fdocs.test%20https%3A%2F%2Fwww.googleapis.com%2Fauth%2Fdrive%20https%3A%2F%2Fwww.googleapis.com%2Fauth%2Fdrive.photos.readonly%20https%3A%2F%2Fwww.googleapis.com%2Fauth%2Fpeopleapi.readonly&response_type=code\n",
            "\n",
            "Enter your authorization code:\n",
            "··········\n",
            "Mounted at /content/drive\n"
          ],
          "name": "stdout"
        }
      ]
    },
    {
      "cell_type": "code",
      "metadata": {
        "id": "n_OEmXucEb4I",
        "colab_type": "code",
        "colab": {}
      },
      "source": [
        "import pandas as pd\n",
        "import matplotlib.pylab as plt\n",
        "from sklearn import preprocessing"
      ],
      "execution_count": 0,
      "outputs": []
    },
    {
      "cell_type": "code",
      "metadata": {
        "id": "Zvteu_S3EqEN",
        "colab_type": "code",
        "outputId": "5aee154e-7386-4f82-9e5c-d7f6512052ae",
        "colab": {
          "base_uri": "https://localhost:8080/",
          "height": 73
        }
      },
      "source": [
        "dataset= pd.read_csv('/content/drive/My Drive/Datasets: Cyber/Uncensored/ICMP.csv')"
      ],
      "execution_count": 0,
      "outputs": [
        {
          "output_type": "stream",
          "text": [
            "/usr/local/lib/python3.6/dist-packages/IPython/core/interactiveshell.py:2718: DtypeWarning: Columns (20) have mixed types. Specify dtype option on import or set low_memory=False.\n",
            "  interactivity=interactivity, compiler=compiler, result=result)\n"
          ],
          "name": "stderr"
        }
      ]
    },
    {
      "cell_type": "code",
      "metadata": {
        "id": "MRh4pPJqSmA1",
        "colab_type": "code",
        "colab": {}
      },
      "source": [
        "li=[]\n",
        "for i in dataset:\n",
        "  li.append(i)"
      ],
      "execution_count": 0,
      "outputs": []
    },
    {
      "cell_type": "code",
      "metadata": {
        "id": "Nuf-pVmoTCg9",
        "colab_type": "code",
        "colab": {}
      },
      "source": [
        "dataset.head()"
      ],
      "execution_count": 0,
      "outputs": []
    },
    {
      "cell_type": "code",
      "metadata": {
        "id": "Qb2dY7m_Sp3-",
        "colab_type": "code",
        "colab": {}
      },
      "source": [
        "dataset['Date']=pd.to_datetime(dataset['Date'])"
      ],
      "execution_count": 0,
      "outputs": []
    },
    {
      "cell_type": "code",
      "metadata": {
        "id": "1r-aPbjzTOZE",
        "colab_type": "code",
        "colab": {}
      },
      "source": [
        "li.remove(\"Date\")\n",
        "li.remove(\"Class\")"
      ],
      "execution_count": 0,
      "outputs": []
    },
    {
      "cell_type": "code",
      "metadata": {
        "id": "nP1bvfDSThCc",
        "colab_type": "code",
        "colab": {}
      },
      "source": [
        "dataset=dataset.drop(li,axis=1)"
      ],
      "execution_count": 0,
      "outputs": []
    },
    {
      "cell_type": "code",
      "metadata": {
        "id": "zQ_elUSdQMBW",
        "colab_type": "code",
        "outputId": "fc1bb7a9-c3bb-41c5-8e5b-80f357985383",
        "colab": {
          "base_uri": "https://localhost:8080/",
          "height": 206
        }
      },
      "source": [
        "dataset.head()"
      ],
      "execution_count": 0,
      "outputs": [
        {
          "output_type": "execute_result",
          "data": {
            "text/html": [
              "<div>\n",
              "<style scoped>\n",
              "    .dataframe tbody tr th:only-of-type {\n",
              "        vertical-align: middle;\n",
              "    }\n",
              "\n",
              "    .dataframe tbody tr th {\n",
              "        vertical-align: top;\n",
              "    }\n",
              "\n",
              "    .dataframe thead th {\n",
              "        text-align: right;\n",
              "    }\n",
              "</style>\n",
              "<table border=\"1\" class=\"dataframe\">\n",
              "  <thead>\n",
              "    <tr style=\"text-align: right;\">\n",
              "      <th></th>\n",
              "      <th>Date</th>\n",
              "      <th>Class</th>\n",
              "    </tr>\n",
              "  </thead>\n",
              "  <tbody>\n",
              "    <tr>\n",
              "      <th>0</th>\n",
              "      <td>2017-12-03 15:23:00</td>\n",
              "      <td>ICMPFlood</td>\n",
              "    </tr>\n",
              "    <tr>\n",
              "      <th>1</th>\n",
              "      <td>2017-12-03 15:23:00</td>\n",
              "      <td>ICMPFlood</td>\n",
              "    </tr>\n",
              "    <tr>\n",
              "      <th>2</th>\n",
              "      <td>2017-12-03 15:23:00</td>\n",
              "      <td>ICMPFlood</td>\n",
              "    </tr>\n",
              "    <tr>\n",
              "      <th>3</th>\n",
              "      <td>2017-12-03 15:23:00</td>\n",
              "      <td>ICMPFlood</td>\n",
              "    </tr>\n",
              "    <tr>\n",
              "      <th>4</th>\n",
              "      <td>2017-12-03 15:23:00</td>\n",
              "      <td>ICMPFlood</td>\n",
              "    </tr>\n",
              "  </tbody>\n",
              "</table>\n",
              "</div>"
            ],
            "text/plain": [
              "                 Date      Class\n",
              "0 2017-12-03 15:23:00  ICMPFlood\n",
              "1 2017-12-03 15:23:00  ICMPFlood\n",
              "2 2017-12-03 15:23:00  ICMPFlood\n",
              "3 2017-12-03 15:23:00  ICMPFlood\n",
              "4 2017-12-03 15:23:00  ICMPFlood"
            ]
          },
          "metadata": {
            "tags": []
          },
          "execution_count": 9
        }
      ]
    },
    {
      "cell_type": "code",
      "metadata": {
        "id": "uSI7fQXwTuU1",
        "colab_type": "code",
        "outputId": "7e96be88-930c-46ae-c8b6-e75613de5d86",
        "colab": {
          "base_uri": "https://localhost:8080/",
          "height": 287
        }
      },
      "source": [
        "dataset.plot()"
      ],
      "execution_count": 0,
      "outputs": [
        {
          "output_type": "execute_result",
          "data": {
            "text/plain": [
              "<matplotlib.axes._subplots.AxesSubplot at 0x7f7f45e08630>"
            ]
          },
          "metadata": {
            "tags": []
          },
          "execution_count": 10
        },
        {
          "output_type": "display_data",
          "data": {
            "image/png": "[encoded data removed]",
            "text/plain": [
              "<Figure size 432x288 with 1 Axes>"
            ]
          },
          "metadata": {
            "tags": []
          }
        }
      ]
    },
    {
      "cell_type": "code",
      "metadata": {
        "id": "PwyTQRlqUZnt",
        "colab_type": "code",
        "colab": {}
      },
      "source": [
        "le=preprocessing.LabelEncoder()\n",
        "le.fit(dataset[\"Class\"])\n",
        "dataset[\"Class\"]=le.transform(dataset[\"Class\"])"
      ],
      "execution_count": 0,
      "outputs": []
    },
    {
      "cell_type": "code",
      "metadata": {
        "id": "tcsN08GfT8Eh",
        "colab_type": "code",
        "colab": {}
      },
      "source": [
        "dataset[\"stationary\"]=dataset[\"Class\"].diff()"
      ],
      "execution_count": 0,
      "outputs": []
    },
    {
      "cell_type": "code",
      "metadata": {
        "id": "wsyubS97UGS-",
        "colab_type": "code",
        "outputId": "c4f551ee-85a2-478d-b319-dbb70c7c9333",
        "colab": {
          "base_uri": "https://localhost:8080/",
          "height": 73
        }
      },
      "source": [
        "from statsmodels.tsa.ar_model import AR\n",
        "X = dataset['stationary'].dropna()\n",
        "train_data = X[1:len(X)-12]\n",
        "test_data = X[X[len(X)-12:]]\n",
        " \n",
        "#train the autoregression model\n",
        "model = AR(train_data)\n",
        "model_fitted = model.fit()"
      ],
      "execution_count": 0,
      "outputs": [
        {
          "output_type": "stream",
          "text": [
            "/usr/local/lib/python3.6/dist-packages/statsmodels/tsa/base/tsa_model.py:215: ValueWarning: An unsupported index was provided and will be ignored when e.g. forecasting.\n",
            "  ' ignored when e.g. forecasting.', ValueWarning)\n"
          ],
          "name": "stderr"
        }
      ]
    },
    {
      "cell_type": "code",
      "metadata": {
        "id": "Y0lnWV04Utg0",
        "colab_type": "code",
        "outputId": "a6da9ba7-4606-4ca5-933c-40a8d034a06d",
        "colab": {
          "base_uri": "https://localhost:8080/",
          "height": 35
        }
      },
      "source": [
        "\n",
        "print('The lag value chose is: %s' % model_fitted.k_ar)\n",
        " "
      ],
      "execution_count": 0,
      "outputs": [
        {
          "output_type": "stream",
          "text": [
            "The lag value chose is: 95\n"
          ],
          "name": "stdout"
        }
      ]
    },
    {
      "cell_type": "code",
      "metadata": {
        "id": "w524w5TTU3hl",
        "colab_type": "code",
        "outputId": "f26df4c2-5ce0-4a27-cb05-e252516c820f",
        "colab": {
          "base_uri": "https://localhost:8080/"
        }
      },
      "source": [
        "print('The coefficients of the model are:\\n %s' % model_fitted.params)"
      ],
      "execution_count": 0,
      "outputs": [
        {
          "output_type": "stream",
          "text": [
            "The coefficients of the model are:\n",
            " const             0.000003\n",
            "L1.stationary    -0.000003\n",
            "L2.stationary    -0.000003\n",
            "L3.stationary    -0.000003\n",
            "L4.stationary    -0.000003\n",
            "L5.stationary    -0.000003\n",
            "L6.stationary    -0.000003\n",
            "L7.stationary    -0.000003\n",
            "L8.stationary    -0.000003\n",
            "L9.stationary    -0.000003\n",
            "L10.stationary   -0.000003\n",
            "L11.stationary   -0.000003\n",
            "L12.stationary   -0.000003\n",
            "L13.stationary   -0.000003\n",
            "L14.stationary   -0.000003\n",
            "L15.stationary   -0.000003\n",
            "L16.stationary   -0.000003\n",
            "L17.stationary   -0.000003\n",
            "L18.stationary   -0.000003\n",
            "L19.stationary   -0.000003\n",
            "L20.stationary   -0.000003\n",
            "L21.stationary   -0.000003\n",
            "L22.stationary   -0.000003\n",
            "L23.stationary   -0.000003\n",
            "L24.stationary   -0.000003\n",
            "L25.stationary   -0.000003\n",
            "L26.stationary   -0.000003\n",
            "L27.stationary   -0.000003\n",
            "L28.stationary   -0.000003\n",
            "L29.stationary   -0.000003\n",
            "                    ...   \n",
            "L66.stationary   -0.000003\n",
            "L67.stationary   -0.000003\n",
            "L68.stationary   -0.000003\n",
            "L69.stationary   -0.000003\n",
            "L70.stationary   -0.000003\n",
            "L71.stationary   -0.000003\n",
            "L72.stationary   -0.000003\n",
            "L73.stationary   -0.000003\n",
            "L74.stationary   -0.000003\n",
            "L75.stationary   -0.000003\n",
            "L76.stationary   -0.000003\n",
            "L77.stationary   -0.000003\n",
            "L78.stationary   -0.000003\n",
            "L79.stationary   -0.000003\n",
            "L80.stationary   -0.000003\n",
            "L81.stationary   -0.000003\n",
            "L82.stationary   -0.000003\n",
            "L83.stationary   -0.000003\n",
            "L84.stationary   -0.000003\n",
            "L85.stationary   -0.000003\n",
            "L86.stationary   -0.000003\n",
            "L87.stationary   -0.000003\n",
            "L88.stationary   -0.000003\n",
            "L89.stationary   -0.000003\n",
            "L90.stationary   -0.000003\n",
            "L91.stationary   -0.000003\n",
            "L92.stationary   -0.000003\n",
            "L93.stationary   -0.000003\n",
            "L94.stationary   -0.000003\n",
            "L95.stationary   -0.000003\n",
            "Length: 96, dtype: float64\n"
          ],
          "name": "stdout"
        }
      ]
    },
    {
      "cell_type": "code",
      "metadata": {
        "id": "imzgQGYZU6eH",
        "colab_type": "code",
        "outputId": "bc114bd8-055d-454c-d079-8cbfaefd208c",
        "colab": {
          "base_uri": "https://localhost:8080/",
          "height": 357
        }
      },
      "source": [
        "predictions = model_fitted.predict(\n",
        "    start=len(train_data), \n",
        "    end=len(train_data) + len(test_data)-1, \n",
        "    dynamic=False)\n",
        " \n",
        "# create a comparison dataframe\n",
        "compare_df = pd.concat(\n",
        "    [dataset['stationary'].tail(12),\n",
        "    predictions], axis=1).rename(\n",
        "    columns={'stationary': 'actual', 0:'predicted'})\n",
        " \n",
        "#plot the two values\n",
        "compare_df.plot()"
      ],
      "execution_count": 0,
      "outputs": [
        {
          "output_type": "stream",
          "text": [
            "/usr/local/lib/python3.6/dist-packages/statsmodels/tsa/base/tsa_model.py:576: ValueWarning: No supported index is available. Prediction results will be given with an integer index beginning at `start`.\n",
            "  ValueWarning)\n"
          ],
          "name": "stderr"
        },
        {
          "output_type": "execute_result",
          "data": {
            "text/plain": [
              "<matplotlib.axes._subplots.AxesSubplot at 0x7f7f43344e48>"
            ]
          },
          "metadata": {
            "tags": []
          },
          "execution_count": 16
        },
        {
          "output_type": "display_data",
          "data": {
            "image/png": "[encoded data removed]",
            "text/plain": [
              "<Figure size 432x288 with 1 Axes>"
            ]
          },
          "metadata": {
            "tags": []
          }
        }
      ]
    },
    {
      "cell_type": "code",
      "metadata": {
        "id": "ZvrJ3xMwVCDo",
        "colab_type": "code",
        "colab": {}
      },
      "source": [
        ""
      ],
      "execution_count": 0,
      "outputs": []
    }
  ]
}