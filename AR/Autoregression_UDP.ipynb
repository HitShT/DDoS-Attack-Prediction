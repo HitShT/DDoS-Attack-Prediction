{
  "nbformat": 4,
  "nbformat_minor": 0,
  "metadata": {
    "colab": {
      "name": "Autoregression UDP",
      "provenance": []
    },
    "kernelspec": {
      "name": "python3",
      "display_name": "Python 3"
    }
  },
  "cells": [
    {
      "cell_type": "markdown",
      "metadata": {
        "id": "0dnPQQIimsRH",
        "colab_type": "text"
      },
      "source": [
        "Auto Regression (From Wikipedia :https://en.wikipedia.org/wiki/Autoregressive_model ):\n",
        "\n",
        "The autoregressive model specifies that the output variable depends linearly on its **own previous values ** and on a stochastic term \n",
        "\n",
        "So we just need 2 columns, a time column and its value column"
      ]
    },
    {
      "cell_type": "code",
      "metadata": {
        "id": "1RX7-Vl0EXry",
        "colab_type": "code",
        "outputId": "51c340fa-68dd-4445-812b-d64e36fa6829",
        "colab": {
          "base_uri": "https://localhost:8080/",
          "height": 128
        }
      },
      "source": [
        "from google.colab import drive\n",
        "drive.mount(\"/content/drive\",force_remount=True)"
      ],
      "execution_count": 0,
      "outputs": [
        {
          "output_type": "stream",
          "text": [
            "Go to this URL in a browser: https://accounts.google.com/o/oauth2/auth?client_id=947318989803-6bn6qk8qdgf4n4g3pfee6491hc0brc4i.apps.googleusercontent.com&redirect_uri=urn%3Aietf%3Awg%3Aoauth%3A2.0%3Aoob&scope=email%20https%3A%2F%2Fwww.googleapis.com%2Fauth%2Fdocs.test%20https%3A%2F%2Fwww.googleapis.com%2Fauth%2Fdrive%20https%3A%2F%2Fwww.googleapis.com%2Fauth%2Fdrive.photos.readonly%20https%3A%2F%2Fwww.googleapis.com%2Fauth%2Fpeopleapi.readonly&response_type=code\n",
            "\n",
            "Enter your authorization code:\n",
            "··········\n",
            "Mounted at /content/drive\n"
          ],
          "name": "stdout"
        }
      ]
    },
    {
      "cell_type": "code",
      "metadata": {
        "id": "n_OEmXucEb4I",
        "colab_type": "code",
        "colab": {}
      },
      "source": [
        "import pandas as pd\n",
        "import matplotlib.pylab as plt\n",
        "from sklearn import preprocessing"
      ],
      "execution_count": 0,
      "outputs": []
    },
    {
      "cell_type": "code",
      "metadata": {
        "id": "Zvteu_S3EqEN",
        "colab_type": "code",
        "outputId": "0da1c9ea-82c7-4f03-b8db-975a36cf9548",
        "colab": {
          "base_uri": "https://localhost:8080/",
          "height": 73
        }
      },
      "source": [
        "dataset= pd.read_csv('/content/drive/My Drive/Datasets: Cyber/Uncensored/UDP.csv')"
      ],
      "execution_count": 0,
      "outputs": [
        {
          "output_type": "stream",
          "text": [
            "/usr/local/lib/python3.6/dist-packages/IPython/core/interactiveshell.py:2718: DtypeWarning: Columns (20) have mixed types. Specify dtype option on import or set low_memory=False.\n",
            "  interactivity=interactivity, compiler=compiler, result=result)\n"
          ],
          "name": "stderr"
        }
      ]
    },
    {
      "cell_type": "code",
      "metadata": {
        "id": "MRh4pPJqSmA1",
        "colab_type": "code",
        "colab": {}
      },
      "source": [
        "li=[]\n",
        "for i in dataset:\n",
        "  li.append(i)"
      ],
      "execution_count": 0,
      "outputs": []
    },
    {
      "cell_type": "code",
      "metadata": {
        "id": "Nuf-pVmoTCg9",
        "colab_type": "code",
        "outputId": "be6f8853-d1e0-4069-eb32-cffd220bffb7",
        "colab": {
          "base_uri": "https://localhost:8080/",
          "height": 417
        }
      },
      "source": [
        "dataset.head()"
      ],
      "execution_count": 0,
      "outputs": [
        {
          "output_type": "execute_result",
          "data": {
            "text/html": [
              "<div>\n",
              "<style scoped>\n",
              "    .dataframe tbody tr th:only-of-type {\n",
              "        vertical-align: middle;\n",
              "    }\n",
              "\n",
              "    .dataframe tbody tr th {\n",
              "        vertical-align: top;\n",
              "    }\n",
              "\n",
              "    .dataframe thead th {\n",
              "        text-align: right;\n",
              "    }\n",
              "</style>\n",
              "<table border=\"1\" class=\"dataframe\">\n",
              "  <thead>\n",
              "    <tr style=\"text-align: right;\">\n",
              "      <th></th>\n",
              "      <th>Date</th>\n",
              "      <th>UTC Time</th>\n",
              "      <th>Time</th>\n",
              "      <th>Relative Time</th>\n",
              "      <th>Absolute Time</th>\n",
              "      <th>Delta Time</th>\n",
              "      <th>Source</th>\n",
              "      <th>Destination</th>\n",
              "      <th>Protocol</th>\n",
              "      <th>Length</th>\n",
              "      <th>Info</th>\n",
              "      <th>SourcePort</th>\n",
              "      <th>DestPort</th>\n",
              "      <th>Cumulative Bytes</th>\n",
              "      <th>Hwdestaddr</th>\n",
              "      <th>Hwsrcaddr</th>\n",
              "      <th>Unresolved Destport</th>\n",
              "      <th>Unresolved Srcport</th>\n",
              "      <th>NetSrcAddr</th>\n",
              "      <th>NetDestAddr</th>\n",
              "      <th>ExpertInfo</th>\n",
              "      <th>Class</th>\n",
              "    </tr>\n",
              "  </thead>\n",
              "  <tbody>\n",
              "    <tr>\n",
              "      <th>0</th>\n",
              "      <td>18-03-2017 13:11</td>\n",
              "      <td>13:11:23</td>\n",
              "      <td>0.000000</td>\n",
              "      <td>0.000000</td>\n",
              "      <td>18:41:23</td>\n",
              "      <td>0.000000</td>\n",
              "      <td>192.168.100.13</td>\n",
              "      <td>192.168.60.6</td>\n",
              "      <td>UDP</td>\n",
              "      <td>42</td>\n",
              "      <td>55951  &gt;  53 Len=0</td>\n",
              "      <td>55951.0</td>\n",
              "      <td>53.0</td>\n",
              "      <td>42</td>\n",
              "      <td>fa:16:3e:66:6e:87</td>\n",
              "      <td>fa:16:3e:f2:5a:f7</td>\n",
              "      <td>53.0</td>\n",
              "      <td>55951.0</td>\n",
              "      <td>192.168.100.13</td>\n",
              "      <td>192.168.60.6</td>\n",
              "      <td>NaN</td>\n",
              "      <td>UDPFlood</td>\n",
              "    </tr>\n",
              "    <tr>\n",
              "      <th>1</th>\n",
              "      <td>18-03-2017 13:11</td>\n",
              "      <td>13:11:23</td>\n",
              "      <td>0.000027</td>\n",
              "      <td>0.000027</td>\n",
              "      <td>18:41:23</td>\n",
              "      <td>0.000027</td>\n",
              "      <td>192.168.100.9</td>\n",
              "      <td>192.168.60.6</td>\n",
              "      <td>UDP</td>\n",
              "      <td>42</td>\n",
              "      <td>37240  &gt;  53 Len=0</td>\n",
              "      <td>37240.0</td>\n",
              "      <td>53.0</td>\n",
              "      <td>84</td>\n",
              "      <td>fa:16:3e:66:6e:87</td>\n",
              "      <td>fa:16:3e:f2:5a:f7</td>\n",
              "      <td>53.0</td>\n",
              "      <td>37240.0</td>\n",
              "      <td>192.168.100.9</td>\n",
              "      <td>192.168.60.6</td>\n",
              "      <td>NaN</td>\n",
              "      <td>UDPFlood</td>\n",
              "    </tr>\n",
              "    <tr>\n",
              "      <th>2</th>\n",
              "      <td>18-03-2017 13:11</td>\n",
              "      <td>13:11:23</td>\n",
              "      <td>0.000052</td>\n",
              "      <td>0.000052</td>\n",
              "      <td>18:41:23</td>\n",
              "      <td>0.000025</td>\n",
              "      <td>192.168.100.13</td>\n",
              "      <td>192.168.60.6</td>\n",
              "      <td>UDP</td>\n",
              "      <td>42</td>\n",
              "      <td>55952  &gt;  53 Len=0</td>\n",
              "      <td>55952.0</td>\n",
              "      <td>53.0</td>\n",
              "      <td>126</td>\n",
              "      <td>fa:16:3e:66:6e:87</td>\n",
              "      <td>fa:16:3e:f2:5a:f7</td>\n",
              "      <td>53.0</td>\n",
              "      <td>55952.0</td>\n",
              "      <td>192.168.100.13</td>\n",
              "      <td>192.168.60.6</td>\n",
              "      <td>NaN</td>\n",
              "      <td>UDPFlood</td>\n",
              "    </tr>\n",
              "    <tr>\n",
              "      <th>3</th>\n",
              "      <td>18-03-2017 13:11</td>\n",
              "      <td>13:11:23</td>\n",
              "      <td>0.000078</td>\n",
              "      <td>0.000078</td>\n",
              "      <td>18:41:23</td>\n",
              "      <td>0.000026</td>\n",
              "      <td>192.168.100.15</td>\n",
              "      <td>192.168.60.6</td>\n",
              "      <td>UDP</td>\n",
              "      <td>42</td>\n",
              "      <td>63011  &gt;  53 Len=0</td>\n",
              "      <td>63011.0</td>\n",
              "      <td>53.0</td>\n",
              "      <td>168</td>\n",
              "      <td>fa:16:3e:66:6e:87</td>\n",
              "      <td>fa:16:3e:f2:5a:f7</td>\n",
              "      <td>53.0</td>\n",
              "      <td>63011.0</td>\n",
              "      <td>192.168.100.15</td>\n",
              "      <td>192.168.60.6</td>\n",
              "      <td>NaN</td>\n",
              "      <td>UDPFlood</td>\n",
              "    </tr>\n",
              "    <tr>\n",
              "      <th>4</th>\n",
              "      <td>18-03-2017 13:11</td>\n",
              "      <td>13:11:23</td>\n",
              "      <td>0.000104</td>\n",
              "      <td>0.000104</td>\n",
              "      <td>18:41:23</td>\n",
              "      <td>0.000026</td>\n",
              "      <td>192.168.100.15</td>\n",
              "      <td>192.168.60.6</td>\n",
              "      <td>UDP</td>\n",
              "      <td>42</td>\n",
              "      <td>63012  &gt;  53 Len=0</td>\n",
              "      <td>63012.0</td>\n",
              "      <td>53.0</td>\n",
              "      <td>210</td>\n",
              "      <td>fa:16:3e:66:6e:87</td>\n",
              "      <td>fa:16:3e:f2:5a:f7</td>\n",
              "      <td>53.0</td>\n",
              "      <td>63012.0</td>\n",
              "      <td>192.168.100.15</td>\n",
              "      <td>192.168.60.6</td>\n",
              "      <td>NaN</td>\n",
              "      <td>UDPFlood</td>\n",
              "    </tr>\n",
              "  </tbody>\n",
              "</table>\n",
              "</div>"
            ],
            "text/plain": [
              "               Date  UTC Time      Time  ...   NetDestAddr ExpertInfo     Class\n",
              "0  18-03-2017 13:11  13:11:23  0.000000  ...  192.168.60.6        NaN  UDPFlood\n",
              "1  18-03-2017 13:11  13:11:23  0.000027  ...  192.168.60.6        NaN  UDPFlood\n",
              "2  18-03-2017 13:11  13:11:23  0.000052  ...  192.168.60.6        NaN  UDPFlood\n",
              "3  18-03-2017 13:11  13:11:23  0.000078  ...  192.168.60.6        NaN  UDPFlood\n",
              "4  18-03-2017 13:11  13:11:23  0.000104  ...  192.168.60.6        NaN  UDPFlood\n",
              "\n",
              "[5 rows x 22 columns]"
            ]
          },
          "metadata": {
            "tags": []
          },
          "execution_count": 6
        }
      ]
    },
    {
      "cell_type": "code",
      "metadata": {
        "id": "Qb2dY7m_Sp3-",
        "colab_type": "code",
        "colab": {}
      },
      "source": [
        "dataset['Date']=pd.to_datetime(dataset['Date'])"
      ],
      "execution_count": 0,
      "outputs": []
    },
    {
      "cell_type": "code",
      "metadata": {
        "id": "1r-aPbjzTOZE",
        "colab_type": "code",
        "colab": {}
      },
      "source": [
        "li.remove(\"Date\")\n",
        "li.remove(\"Class\")"
      ],
      "execution_count": 0,
      "outputs": []
    },
    {
      "cell_type": "code",
      "metadata": {
        "id": "nP1bvfDSThCc",
        "colab_type": "code",
        "colab": {}
      },
      "source": [
        "dataset=dataset.drop(li,axis=1)"
      ],
      "execution_count": 0,
      "outputs": []
    },
    {
      "cell_type": "code",
      "metadata": {
        "id": "zQ_elUSdQMBW",
        "colab_type": "code",
        "outputId": "8c9e4138-835a-4f35-a237-8d873c9b48ac",
        "colab": {
          "base_uri": "https://localhost:8080/",
          "height": 206
        }
      },
      "source": [
        "dataset.head()"
      ],
      "execution_count": 0,
      "outputs": [
        {
          "output_type": "execute_result",
          "data": {
            "text/html": [
              "<div>\n",
              "<style scoped>\n",
              "    .dataframe tbody tr th:only-of-type {\n",
              "        vertical-align: middle;\n",
              "    }\n",
              "\n",
              "    .dataframe tbody tr th {\n",
              "        vertical-align: top;\n",
              "    }\n",
              "\n",
              "    .dataframe thead th {\n",
              "        text-align: right;\n",
              "    }\n",
              "</style>\n",
              "<table border=\"1\" class=\"dataframe\">\n",
              "  <thead>\n",
              "    <tr style=\"text-align: right;\">\n",
              "      <th></th>\n",
              "      <th>Date</th>\n",
              "      <th>Class</th>\n",
              "    </tr>\n",
              "  </thead>\n",
              "  <tbody>\n",
              "    <tr>\n",
              "      <th>0</th>\n",
              "      <td>2017-03-18 13:11:00</td>\n",
              "      <td>UDPFlood</td>\n",
              "    </tr>\n",
              "    <tr>\n",
              "      <th>1</th>\n",
              "      <td>2017-03-18 13:11:00</td>\n",
              "      <td>UDPFlood</td>\n",
              "    </tr>\n",
              "    <tr>\n",
              "      <th>2</th>\n",
              "      <td>2017-03-18 13:11:00</td>\n",
              "      <td>UDPFlood</td>\n",
              "    </tr>\n",
              "    <tr>\n",
              "      <th>3</th>\n",
              "      <td>2017-03-18 13:11:00</td>\n",
              "      <td>UDPFlood</td>\n",
              "    </tr>\n",
              "    <tr>\n",
              "      <th>4</th>\n",
              "      <td>2017-03-18 13:11:00</td>\n",
              "      <td>UDPFlood</td>\n",
              "    </tr>\n",
              "  </tbody>\n",
              "</table>\n",
              "</div>"
            ],
            "text/plain": [
              "                 Date     Class\n",
              "0 2017-03-18 13:11:00  UDPFlood\n",
              "1 2017-03-18 13:11:00  UDPFlood\n",
              "2 2017-03-18 13:11:00  UDPFlood\n",
              "3 2017-03-18 13:11:00  UDPFlood\n",
              "4 2017-03-18 13:11:00  UDPFlood"
            ]
          },
          "metadata": {
            "tags": []
          },
          "execution_count": 10
        }
      ]
    },
    {
      "cell_type": "code",
      "metadata": {
        "id": "uSI7fQXwTuU1",
        "colab_type": "code",
        "outputId": "fd8421fb-45f9-4f77-c103-4adac64d6499",
        "colab": {
          "base_uri": "https://localhost:8080/",
          "height": 287
        }
      },
      "source": [
        "dataset.plot()"
      ],
      "execution_count": 0,
      "outputs": [
        {
          "output_type": "execute_result",
          "data": {
            "text/plain": [
              "<matplotlib.axes._subplots.AxesSubplot at 0x7f05fc173898>"
            ]
          },
          "metadata": {
            "tags": []
          },
          "execution_count": 11
        },
        {
          "output_type": "display_data",
          "data": {
            "image/png": "[encoded data removed]",
            "text/plain": [
              "<Figure size 432x288 with 1 Axes>"
            ]
          },
          "metadata": {
            "tags": []
          }
        }
      ]
    },
    {
      "cell_type": "code",
      "metadata": {
        "id": "PwyTQRlqUZnt",
        "colab_type": "code",
        "colab": {}
      },
      "source": [
        "le=preprocessing.LabelEncoder()\n",
        "le.fit(dataset[\"Class\"])\n",
        "dataset[\"Class\"]=le.transform(dataset[\"Class\"])"
      ],
      "execution_count": 0,
      "outputs": []
    },
    {
      "cell_type": "code",
      "metadata": {
        "id": "tcsN08GfT8Eh",
        "colab_type": "code",
        "colab": {}
      },
      "source": [
        "dataset[\"stationary\"]=dataset[\"Class\"].diff()"
      ],
      "execution_count": 0,
      "outputs": []
    },
    {
      "cell_type": "code",
      "metadata": {
        "id": "wsyubS97UGS-",
        "colab_type": "code",
        "outputId": "2231f532-1e9a-4317-e335-16e643fb4951",
        "colab": {
          "base_uri": "https://localhost:8080/",
          "height": 73
        }
      },
      "source": [
        "from statsmodels.tsa.ar_model import AR\n",
        "X = dataset['stationary'].dropna()\n",
        "train_data = X[1:len(X)-12]\n",
        "test_data = X[X[len(X)-12:]]\n",
        " \n",
        "#train the autoregression model\n",
        "model = AR(train_data)\n",
        "model_fitted = model.fit()"
      ],
      "execution_count": 0,
      "outputs": [
        {
          "output_type": "stream",
          "text": [
            "/usr/local/lib/python3.6/dist-packages/statsmodels/tsa/base/tsa_model.py:215: ValueWarning: An unsupported index was provided and will be ignored when e.g. forecasting.\n",
            "  ' ignored when e.g. forecasting.', ValueWarning)\n"
          ],
          "name": "stderr"
        }
      ]
    },
    {
      "cell_type": "code",
      "metadata": {
        "id": "Y0lnWV04Utg0",
        "colab_type": "code",
        "outputId": "d5b069a6-41dc-4718-fe94-ce49c03f8d0c",
        "colab": {
          "base_uri": "https://localhost:8080/",
          "height": 35
        }
      },
      "source": [
        "\n",
        "print('The lag value chose is: %s' % model_fitted.k_ar)\n",
        " "
      ],
      "execution_count": 0,
      "outputs": [
        {
          "output_type": "stream",
          "text": [
            "The lag value chose is: 94\n"
          ],
          "name": "stdout"
        }
      ]
    },
    {
      "cell_type": "code",
      "metadata": {
        "id": "w524w5TTU3hl",
        "colab_type": "code",
        "colab": {}
      },
      "source": [
        "print('The coefficients of the model are:\\n %s' % model_fitted.params)"
      ],
      "execution_count": 0,
      "outputs": []
    },
    {
      "cell_type": "code",
      "metadata": {
        "id": "imzgQGYZU6eH",
        "colab_type": "code",
        "outputId": "a13a6db8-b3d4-4d12-9b10-12b4a7020340",
        "colab": {
          "base_uri": "https://localhost:8080/",
          "height": 357
        }
      },
      "source": [
        "predictions = model_fitted.predict(\n",
        "    start=len(train_data), \n",
        "    end=len(train_data) + len(test_data)-1, \n",
        "    dynamic=False)\n",
        " \n",
        "# create a comparison dataframe\n",
        "compare_df = pd.concat(\n",
        "    [dataset['stationary'].tail(12),\n",
        "    predictions], axis=1).rename(\n",
        "    columns={'stationary': 'actual', 0:'predicted'})\n",
        " \n",
        "#plot the two values\n",
        "compare_df.plot()"
      ],
      "execution_count": 0,
      "outputs": [
        {
          "output_type": "stream",
          "text": [
            "/usr/local/lib/python3.6/dist-packages/statsmodels/tsa/base/tsa_model.py:576: ValueWarning: No supported index is available. Prediction results will be given with an integer index beginning at `start`.\n",
            "  ValueWarning)\n"
          ],
          "name": "stderr"
        },
        {
          "output_type": "execute_result",
          "data": {
            "text/plain": [
              "<matplotlib.axes._subplots.AxesSubplot at 0x7f05f890d710>"
            ]
          },
          "metadata": {
            "tags": []
          },
          "execution_count": 17
        },
        {
          "output_type": "display_data",
          "data": {
            "image/png": "[encoded data removed]",
            "text/plain": [
              "<Figure size 432x288 with 1 Axes>"
            ]
          },
          "metadata": {
            "tags": []
          }
        }
      ]
    },
    {
      "cell_type": "code",
      "metadata": {
        "id": "ZvrJ3xMwVCDo",
        "colab_type": "code",
        "colab": {}
      },
      "source": [
        ""
      ],
      "execution_count": 0,
      "outputs": []
    }
  ]
}