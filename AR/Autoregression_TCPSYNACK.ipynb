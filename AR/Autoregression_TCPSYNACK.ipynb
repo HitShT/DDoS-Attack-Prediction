{
  "nbformat": 4,
  "nbformat_minor": 0,
  "metadata": {
    "colab": {
      "name": "Autoregression-TCPSYNACK",
      "provenance": []
    },
    "kernelspec": {
      "name": "python3",
      "display_name": "Python 3"
    }
  },
  "cells": [
    {
      "cell_type": "markdown",
      "metadata": {
        "id": "0dnPQQIimsRH",
        "colab_type": "text"
      },
      "source": [
        "Auto Regression (From Wikipedia :https://en.wikipedia.org/wiki/Autoregressive_model ):\n",
        "\n",
        "The autoregressive model specifies that the output variable depends linearly on its **own previous values ** and on a stochastic term \n",
        "\n",
        "So we just need 2 columns, a time column and its value column"
      ]
    },
    {
      "cell_type": "code",
      "metadata": {
        "id": "1RX7-Vl0EXry",
        "colab_type": "code",
        "outputId": "bd2772ad-6a52-404a-fe9b-025918415833",
        "colab": {
          "base_uri": "https://localhost:8080/",
          "height": 128
        }
      },
      "source": [
        "from google.colab import drive\n",
        "drive.mount(\"/content/drive\",force_remount=True)"
      ],
      "execution_count": 0,
      "outputs": [
        {
          "output_type": "stream",
          "text": [
            "Go to this URL in a browser: https://accounts.google.com/o/oauth2/auth?client_id=947318989803-6bn6qk8qdgf4n4g3pfee6491hc0brc4i.apps.googleusercontent.com&redirect_uri=urn%3Aietf%3Awg%3Aoauth%3A2.0%3Aoob&scope=email%20https%3A%2F%2Fwww.googleapis.com%2Fauth%2Fdocs.test%20https%3A%2F%2Fwww.googleapis.com%2Fauth%2Fdrive%20https%3A%2F%2Fwww.googleapis.com%2Fauth%2Fdrive.photos.readonly%20https%3A%2F%2Fwww.googleapis.com%2Fauth%2Fpeopleapi.readonly&response_type=code\n",
            "\n",
            "Enter your authorization code:\n",
            "··········\n",
            "Mounted at /content/drive\n"
          ],
          "name": "stdout"
        }
      ]
    },
    {
      "cell_type": "code",
      "metadata": {
        "id": "n_OEmXucEb4I",
        "colab_type": "code",
        "colab": {}
      },
      "source": [
        "import pandas as pd\n",
        "import matplotlib.pylab as plt\n",
        "from sklearn import preprocessing"
      ],
      "execution_count": 0,
      "outputs": []
    },
    {
      "cell_type": "code",
      "metadata": {
        "id": "Zvteu_S3EqEN",
        "colab_type": "code",
        "colab": {}
      },
      "source": [
        "dataset= pd.read_csv('/content/drive/My Drive/Datasets: Cyber/Uncensored/TCPSYNACK.csv')"
      ],
      "execution_count": 0,
      "outputs": []
    },
    {
      "cell_type": "code",
      "metadata": {
        "id": "MRh4pPJqSmA1",
        "colab_type": "code",
        "colab": {}
      },
      "source": [
        "li=[]\n",
        "for i in dataset:\n",
        "  li.append(i)"
      ],
      "execution_count": 0,
      "outputs": []
    },
    {
      "cell_type": "code",
      "metadata": {
        "id": "Nuf-pVmoTCg9",
        "colab_type": "code",
        "outputId": "10e80003-da2c-4d6d-c430-4d179397f4e6",
        "colab": {
          "base_uri": "https://localhost:8080/",
          "height": 504
        }
      },
      "source": [
        "dataset.head()"
      ],
      "execution_count": 0,
      "outputs": [
        {
          "output_type": "execute_result",
          "data": {
            "text/html": [
              "<div>\n",
              "<style scoped>\n",
              "    .dataframe tbody tr th:only-of-type {\n",
              "        vertical-align: middle;\n",
              "    }\n",
              "\n",
              "    .dataframe tbody tr th {\n",
              "        vertical-align: top;\n",
              "    }\n",
              "\n",
              "    .dataframe thead th {\n",
              "        text-align: right;\n",
              "    }\n",
              "</style>\n",
              "<table border=\"1\" class=\"dataframe\">\n",
              "  <thead>\n",
              "    <tr style=\"text-align: right;\">\n",
              "      <th></th>\n",
              "      <th>Date</th>\n",
              "      <th>UTC Time</th>\n",
              "      <th>Time</th>\n",
              "      <th>Relative Time</th>\n",
              "      <th>Absolute Time</th>\n",
              "      <th>Delta Time</th>\n",
              "      <th>Source</th>\n",
              "      <th>Destination</th>\n",
              "      <th>Protocol</th>\n",
              "      <th>Length</th>\n",
              "      <th>Info</th>\n",
              "      <th>SourcePort</th>\n",
              "      <th>DestPort</th>\n",
              "      <th>Cumulative Bytes</th>\n",
              "      <th>Hwdestaddr</th>\n",
              "      <th>Hwsrcaddr</th>\n",
              "      <th>Unresolved Destport</th>\n",
              "      <th>Unresolved Srcport</th>\n",
              "      <th>NetSrcAddr</th>\n",
              "      <th>NetDestAddr</th>\n",
              "      <th>ExpertInfo</th>\n",
              "      <th>Class</th>\n",
              "    </tr>\n",
              "  </thead>\n",
              "  <tbody>\n",
              "    <tr>\n",
              "      <th>0</th>\n",
              "      <td>18-03-2017 07:34</td>\n",
              "      <td>07:34:33</td>\n",
              "      <td>0.000000</td>\n",
              "      <td>0.000000</td>\n",
              "      <td>13:04:33</td>\n",
              "      <td>0.000000</td>\n",
              "      <td>192.168.60.6</td>\n",
              "      <td>192.168.100.1</td>\n",
              "      <td>SSH</td>\n",
              "      <td>2962</td>\n",
              "      <td>Server: Encrypted packet (len=2896)</td>\n",
              "      <td>22.0</td>\n",
              "      <td>33896.0</td>\n",
              "      <td>2962</td>\n",
              "      <td>fa:16:3e:f2:5a:f7</td>\n",
              "      <td>fa:16:3e:66:6e:87</td>\n",
              "      <td>33896.0</td>\n",
              "      <td>22.0</td>\n",
              "      <td>192.168.60.6</td>\n",
              "      <td>192.168.100.1</td>\n",
              "      <td>NaN</td>\n",
              "      <td>TCPSYNACKFlood</td>\n",
              "    </tr>\n",
              "    <tr>\n",
              "      <th>1</th>\n",
              "      <td>18-03-2017 07:34</td>\n",
              "      <td>07:34:33</td>\n",
              "      <td>0.000058</td>\n",
              "      <td>0.000058</td>\n",
              "      <td>13:04:33</td>\n",
              "      <td>0.000058</td>\n",
              "      <td>192.168.60.6</td>\n",
              "      <td>192.168.100.1</td>\n",
              "      <td>SSH</td>\n",
              "      <td>1302</td>\n",
              "      <td>Server: Encrypted packet (len=1236)</td>\n",
              "      <td>22.0</td>\n",
              "      <td>33896.0</td>\n",
              "      <td>4264</td>\n",
              "      <td>fa:16:3e:f2:5a:f7</td>\n",
              "      <td>fa:16:3e:66:6e:87</td>\n",
              "      <td>33896.0</td>\n",
              "      <td>22.0</td>\n",
              "      <td>192.168.60.6</td>\n",
              "      <td>192.168.100.1</td>\n",
              "      <td>NaN</td>\n",
              "      <td>TCPSYNACKFlood</td>\n",
              "    </tr>\n",
              "    <tr>\n",
              "      <th>2</th>\n",
              "      <td>18-03-2017 07:34</td>\n",
              "      <td>07:34:33</td>\n",
              "      <td>0.000358</td>\n",
              "      <td>0.000358</td>\n",
              "      <td>13:04:33</td>\n",
              "      <td>0.000300</td>\n",
              "      <td>192.168.60.6</td>\n",
              "      <td>192.168.100.1</td>\n",
              "      <td>SSH</td>\n",
              "      <td>2962</td>\n",
              "      <td>Server: Encrypted packet (len=2896)</td>\n",
              "      <td>22.0</td>\n",
              "      <td>33896.0</td>\n",
              "      <td>7226</td>\n",
              "      <td>fa:16:3e:f2:5a:f7</td>\n",
              "      <td>fa:16:3e:66:6e:87</td>\n",
              "      <td>33896.0</td>\n",
              "      <td>22.0</td>\n",
              "      <td>192.168.60.6</td>\n",
              "      <td>192.168.100.1</td>\n",
              "      <td>NaN</td>\n",
              "      <td>TCPSYNACKFlood</td>\n",
              "    </tr>\n",
              "    <tr>\n",
              "      <th>3</th>\n",
              "      <td>18-03-2017 07:34</td>\n",
              "      <td>07:34:33</td>\n",
              "      <td>0.000416</td>\n",
              "      <td>0.000416</td>\n",
              "      <td>13:04:33</td>\n",
              "      <td>0.000058</td>\n",
              "      <td>192.168.60.6</td>\n",
              "      <td>192.168.100.1</td>\n",
              "      <td>SSH</td>\n",
              "      <td>526</td>\n",
              "      <td>Server: Encrypted packet (len=460)</td>\n",
              "      <td>22.0</td>\n",
              "      <td>33896.0</td>\n",
              "      <td>7752</td>\n",
              "      <td>fa:16:3e:f2:5a:f7</td>\n",
              "      <td>fa:16:3e:66:6e:87</td>\n",
              "      <td>33896.0</td>\n",
              "      <td>22.0</td>\n",
              "      <td>192.168.60.6</td>\n",
              "      <td>192.168.100.1</td>\n",
              "      <td>NaN</td>\n",
              "      <td>TCPSYNACKFlood</td>\n",
              "    </tr>\n",
              "    <tr>\n",
              "      <th>4</th>\n",
              "      <td>18-03-2017 07:34</td>\n",
              "      <td>07:34:33</td>\n",
              "      <td>0.000897</td>\n",
              "      <td>0.000897</td>\n",
              "      <td>13:04:33</td>\n",
              "      <td>0.000481</td>\n",
              "      <td>192.168.60.6</td>\n",
              "      <td>192.168.100.1</td>\n",
              "      <td>SSH</td>\n",
              "      <td>102</td>\n",
              "      <td>Server: Encrypted packet (len=36)</td>\n",
              "      <td>22.0</td>\n",
              "      <td>33896.0</td>\n",
              "      <td>7854</td>\n",
              "      <td>fa:16:3e:f2:5a:f7</td>\n",
              "      <td>fa:16:3e:66:6e:87</td>\n",
              "      <td>33896.0</td>\n",
              "      <td>22.0</td>\n",
              "      <td>192.168.60.6</td>\n",
              "      <td>192.168.100.1</td>\n",
              "      <td>NaN</td>\n",
              "      <td>TCPSYNACKFlood</td>\n",
              "    </tr>\n",
              "  </tbody>\n",
              "</table>\n",
              "</div>"
            ],
            "text/plain": [
              "               Date  UTC Time  ...  ExpertInfo           Class\n",
              "0  18-03-2017 07:34  07:34:33  ...         NaN  TCPSYNACKFlood\n",
              "1  18-03-2017 07:34  07:34:33  ...         NaN  TCPSYNACKFlood\n",
              "2  18-03-2017 07:34  07:34:33  ...         NaN  TCPSYNACKFlood\n",
              "3  18-03-2017 07:34  07:34:33  ...         NaN  TCPSYNACKFlood\n",
              "4  18-03-2017 07:34  07:34:33  ...         NaN  TCPSYNACKFlood\n",
              "\n",
              "[5 rows x 22 columns]"
            ]
          },
          "metadata": {
            "tags": []
          },
          "execution_count": 5
        }
      ]
    },
    {
      "cell_type": "code",
      "metadata": {
        "id": "Qb2dY7m_Sp3-",
        "colab_type": "code",
        "colab": {}
      },
      "source": [
        "dataset['Date']=pd.to_datetime(dataset['Date'])"
      ],
      "execution_count": 0,
      "outputs": []
    },
    {
      "cell_type": "code",
      "metadata": {
        "id": "1r-aPbjzTOZE",
        "colab_type": "code",
        "colab": {}
      },
      "source": [
        "li.remove(\"Date\")\n",
        "li.remove(\"Class\")"
      ],
      "execution_count": 0,
      "outputs": []
    },
    {
      "cell_type": "code",
      "metadata": {
        "id": "nP1bvfDSThCc",
        "colab_type": "code",
        "colab": {}
      },
      "source": [
        "dataset=dataset.drop(li,axis=1)"
      ],
      "execution_count": 0,
      "outputs": []
    },
    {
      "cell_type": "code",
      "metadata": {
        "id": "zQ_elUSdQMBW",
        "colab_type": "code",
        "outputId": "1926748d-d749-4f6a-cd53-cc23d2932f3b",
        "colab": {
          "base_uri": "https://localhost:8080/",
          "height": 206
        }
      },
      "source": [
        "dataset.head()"
      ],
      "execution_count": 0,
      "outputs": [
        {
          "output_type": "execute_result",
          "data": {
            "text/html": [
              "<div>\n",
              "<style scoped>\n",
              "    .dataframe tbody tr th:only-of-type {\n",
              "        vertical-align: middle;\n",
              "    }\n",
              "\n",
              "    .dataframe tbody tr th {\n",
              "        vertical-align: top;\n",
              "    }\n",
              "\n",
              "    .dataframe thead th {\n",
              "        text-align: right;\n",
              "    }\n",
              "</style>\n",
              "<table border=\"1\" class=\"dataframe\">\n",
              "  <thead>\n",
              "    <tr style=\"text-align: right;\">\n",
              "      <th></th>\n",
              "      <th>Date</th>\n",
              "      <th>Class</th>\n",
              "    </tr>\n",
              "  </thead>\n",
              "  <tbody>\n",
              "    <tr>\n",
              "      <th>0</th>\n",
              "      <td>2017-03-18 07:34:00</td>\n",
              "      <td>TCPSYNACKFlood</td>\n",
              "    </tr>\n",
              "    <tr>\n",
              "      <th>1</th>\n",
              "      <td>2017-03-18 07:34:00</td>\n",
              "      <td>TCPSYNACKFlood</td>\n",
              "    </tr>\n",
              "    <tr>\n",
              "      <th>2</th>\n",
              "      <td>2017-03-18 07:34:00</td>\n",
              "      <td>TCPSYNACKFlood</td>\n",
              "    </tr>\n",
              "    <tr>\n",
              "      <th>3</th>\n",
              "      <td>2017-03-18 07:34:00</td>\n",
              "      <td>TCPSYNACKFlood</td>\n",
              "    </tr>\n",
              "    <tr>\n",
              "      <th>4</th>\n",
              "      <td>2017-03-18 07:34:00</td>\n",
              "      <td>TCPSYNACKFlood</td>\n",
              "    </tr>\n",
              "  </tbody>\n",
              "</table>\n",
              "</div>"
            ],
            "text/plain": [
              "                 Date           Class\n",
              "0 2017-03-18 07:34:00  TCPSYNACKFlood\n",
              "1 2017-03-18 07:34:00  TCPSYNACKFlood\n",
              "2 2017-03-18 07:34:00  TCPSYNACKFlood\n",
              "3 2017-03-18 07:34:00  TCPSYNACKFlood\n",
              "4 2017-03-18 07:34:00  TCPSYNACKFlood"
            ]
          },
          "metadata": {
            "tags": []
          },
          "execution_count": 9
        }
      ]
    },
    {
      "cell_type": "code",
      "metadata": {
        "id": "uSI7fQXwTuU1",
        "colab_type": "code",
        "outputId": "e38917e5-4f59-4c5e-86f9-5254c6bb7688",
        "colab": {
          "base_uri": "https://localhost:8080/",
          "height": 287
        }
      },
      "source": [
        "dataset.plot()"
      ],
      "execution_count": 0,
      "outputs": [
        {
          "output_type": "execute_result",
          "data": {
            "text/plain": [
              "<matplotlib.axes._subplots.AxesSubplot at 0x7f43e05f7b00>"
            ]
          },
          "metadata": {
            "tags": []
          },
          "execution_count": 10
        },
        {
          "output_type": "display_data",
          "data": {
            "image/png": "[encoded data removed]",
            "text/plain": [
              "<Figure size 432x288 with 1 Axes>"
            ]
          },
          "metadata": {
            "tags": []
          }
        }
      ]
    },
    {
      "cell_type": "code",
      "metadata": {
        "id": "PwyTQRlqUZnt",
        "colab_type": "code",
        "colab": {}
      },
      "source": [
        "le=preprocessing.LabelEncoder()\n",
        "le.fit(dataset[\"Class\"])\n",
        "dataset[\"Class\"]=le.transform(dataset[\"Class\"])"
      ],
      "execution_count": 0,
      "outputs": []
    },
    {
      "cell_type": "code",
      "metadata": {
        "id": "tcsN08GfT8Eh",
        "colab_type": "code",
        "colab": {}
      },
      "source": [
        "dataset[\"stationary\"]=dataset[\"Class\"].diff()"
      ],
      "execution_count": 0,
      "outputs": []
    },
    {
      "cell_type": "code",
      "metadata": {
        "id": "wsyubS97UGS-",
        "colab_type": "code",
        "outputId": "15bed765-c214-46c6-d1d0-15f63605bfd2",
        "colab": {
          "base_uri": "https://localhost:8080/",
          "height": 73
        }
      },
      "source": [
        "from statsmodels.tsa.ar_model import AR\n",
        "X = dataset['stationary'].dropna()\n",
        "train_data = X[1:len(X)-12]\n",
        "test_data = X[X[len(X)-12:]]\n",
        " \n",
        "#train the autoregression model\n",
        "model = AR(train_data)\n",
        "model_fitted = model.fit()"
      ],
      "execution_count": 0,
      "outputs": [
        {
          "output_type": "stream",
          "text": [
            "/usr/local/lib/python3.6/dist-packages/statsmodels/tsa/base/tsa_model.py:215: ValueWarning: An unsupported index was provided and will be ignored when e.g. forecasting.\n",
            "  ' ignored when e.g. forecasting.', ValueWarning)\n"
          ],
          "name": "stderr"
        }
      ]
    },
    {
      "cell_type": "code",
      "metadata": {
        "id": "Y0lnWV04Utg0",
        "colab_type": "code",
        "outputId": "b3174d70-442f-4ee9-af32-cf85ff89c2bb",
        "colab": {
          "base_uri": "https://localhost:8080/",
          "height": 35
        }
      },
      "source": [
        "\n",
        "print('The lag value chose is: %s' % model_fitted.k_ar)\n",
        " "
      ],
      "execution_count": 0,
      "outputs": [
        {
          "output_type": "stream",
          "text": [
            "The lag value chose is: 61\n"
          ],
          "name": "stdout"
        }
      ]
    },
    {
      "cell_type": "code",
      "metadata": {
        "id": "w524w5TTU3hl",
        "colab_type": "code",
        "outputId": "68a19aae-fc61-43a5-b6ef-54b9df23e6cc",
        "colab": {
          "base_uri": "https://localhost:8080/",
          "height": 1000
        }
      },
      "source": [
        "print('The coefficients of the model are:\\n %s' % model_fitted.params)"
      ],
      "execution_count": 0,
      "outputs": [
        {
          "output_type": "stream",
          "text": [
            "The coefficients of the model are:\n",
            " const             0.000015\n",
            "L1.stationary    -0.000015\n",
            "L2.stationary    -0.000015\n",
            "L3.stationary    -0.000015\n",
            "L4.stationary    -0.000015\n",
            "L5.stationary    -0.000015\n",
            "L6.stationary    -0.000015\n",
            "L7.stationary    -0.000015\n",
            "L8.stationary    -0.000015\n",
            "L9.stationary    -0.000015\n",
            "L10.stationary   -0.000015\n",
            "L11.stationary   -0.000015\n",
            "L12.stationary   -0.000015\n",
            "L13.stationary   -0.000015\n",
            "L14.stationary   -0.000015\n",
            "L15.stationary   -0.000015\n",
            "L16.stationary   -0.000015\n",
            "L17.stationary   -0.000015\n",
            "L18.stationary   -0.000015\n",
            "L19.stationary   -0.000015\n",
            "L20.stationary   -0.000015\n",
            "L21.stationary   -0.000015\n",
            "L22.stationary   -0.000015\n",
            "L23.stationary   -0.000015\n",
            "L24.stationary   -0.000015\n",
            "L25.stationary   -0.000015\n",
            "L26.stationary   -0.000015\n",
            "L27.stationary   -0.000015\n",
            "L28.stationary   -0.000015\n",
            "L29.stationary   -0.000015\n",
            "                    ...   \n",
            "L32.stationary   -0.000015\n",
            "L33.stationary   -0.000015\n",
            "L34.stationary   -0.000015\n",
            "L35.stationary   -0.000015\n",
            "L36.stationary   -0.000015\n",
            "L37.stationary   -0.000015\n",
            "L38.stationary   -0.000015\n",
            "L39.stationary   -0.000015\n",
            "L40.stationary   -0.000015\n",
            "L41.stationary   -0.000015\n",
            "L42.stationary   -0.000015\n",
            "L43.stationary   -0.000015\n",
            "L44.stationary   -0.000015\n",
            "L45.stationary   -0.000015\n",
            "L46.stationary   -0.000015\n",
            "L47.stationary   -0.000015\n",
            "L48.stationary   -0.000015\n",
            "L49.stationary   -0.000015\n",
            "L50.stationary   -0.000015\n",
            "L51.stationary   -0.000015\n",
            "L52.stationary   -0.000015\n",
            "L53.stationary   -0.000015\n",
            "L54.stationary   -0.000015\n",
            "L55.stationary   -0.000015\n",
            "L56.stationary   -0.000015\n",
            "L57.stationary   -0.000015\n",
            "L58.stationary   -0.000015\n",
            "L59.stationary   -0.000015\n",
            "L60.stationary   -0.000015\n",
            "L61.stationary   -0.000015\n",
            "Length: 62, dtype: float64\n"
          ],
          "name": "stdout"
        }
      ]
    },
    {
      "cell_type": "code",
      "metadata": {
        "id": "imzgQGYZU6eH",
        "colab_type": "code",
        "outputId": "3d942d5d-9d78-4feb-a3a3-5b18613fade3",
        "colab": {
          "base_uri": "https://localhost:8080/",
          "height": 344
        }
      },
      "source": [
        "predictions = model_fitted.predict(\n",
        "    start=len(train_data), \n",
        "    end=len(train_data) + len(test_data)-1, \n",
        "    dynamic=False)\n",
        " \n",
        "# create a comparison dataframe\n",
        "compare_df = pd.concat(\n",
        "    [dataset['stationary'].tail(12),\n",
        "    predictions], axis=1).rename(\n",
        "    columns={'stationary': 'actual', 0:'predicted'})\n",
        " \n",
        "#plot the two values\n",
        "compare_df.plot()"
      ],
      "execution_count": 0,
      "outputs": [
        {
          "output_type": "stream",
          "text": [
            "/usr/local/lib/python3.6/dist-packages/statsmodels/tsa/base/tsa_model.py:576: ValueWarning: No supported index is available. Prediction results will be given with an integer index beginning at `start`.\n",
            "  ValueWarning)\n"
          ],
          "name": "stderr"
        },
        {
          "output_type": "execute_result",
          "data": {
            "text/plain": [
              "<matplotlib.axes._subplots.AxesSubplot at 0x7f43ddb66358>"
            ]
          },
          "metadata": {
            "tags": []
          },
          "execution_count": 16
        },
        {
          "output_type": "display_data",
          "data": {
            "image/png": "[encoded data removed]",
            "text/plain": [
              "<Figure size 432x288 with 1 Axes>"
            ]
          },
          "metadata": {
            "tags": []
          }
        }
      ]
    },
    {
      "cell_type": "code",
      "metadata": {
        "id": "ZvrJ3xMwVCDo",
        "colab_type": "code",
        "colab": {}
      },
      "source": [
        ""
      ],
      "execution_count": 0,
      "outputs": []
    }
  ]
}