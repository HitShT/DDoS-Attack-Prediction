{
  "nbformat": 4,
  "nbformat_minor": 0,
  "metadata": {
    "colab": {
      "name": "Autoregression-LAND",
      "provenance": []
    },
    "kernelspec": {
      "name": "python3",
      "display_name": "Python 3"
    }
  },
  "cells": [
    {
      "cell_type": "markdown",
      "metadata": {
        "id": "0dnPQQIimsRH",
        "colab_type": "text"
      },
      "source": [
        "Auto Regression (From Wikipedia :https://en.wikipedia.org/wiki/Autoregressive_model ):\n",
        "\n",
        "The autoregressive model specifies that the output variable depends linearly on its **own previous values ** and on a stochastic term \n",
        "\n",
        "So we just need 2 columns, a time column and its value column"
      ]
    },
    {
      "cell_type": "code",
      "metadata": {
        "id": "1RX7-Vl0EXry",
        "colab_type": "code",
        "outputId": "6fab63fc-15f7-4ca7-fd07-2e9deb79941d",
        "colab": {
          "base_uri": "https://localhost:8080/",
          "height": 128
        }
      },
      "source": [
        "from google.colab import drive\n",
        "drive.mount(\"/content/drive\",force_remount=True)"
      ],
      "execution_count": 0,
      "outputs": [
        {
          "output_type": "stream",
          "text": [
            "Go to this URL in a browser: https://accounts.google.com/o/oauth2/auth?client_id=947318989803-6bn6qk8qdgf4n4g3pfee6491hc0brc4i.apps.googleusercontent.com&redirect_uri=urn%3Aietf%3Awg%3Aoauth%3A2.0%3Aoob&scope=email%20https%3A%2F%2Fwww.googleapis.com%2Fauth%2Fdocs.test%20https%3A%2F%2Fwww.googleapis.com%2Fauth%2Fdrive%20https%3A%2F%2Fwww.googleapis.com%2Fauth%2Fdrive.photos.readonly%20https%3A%2F%2Fwww.googleapis.com%2Fauth%2Fpeopleapi.readonly&response_type=code\n",
            "\n",
            "Enter your authorization code:\n",
            "··········\n",
            "Mounted at /content/drive\n"
          ],
          "name": "stdout"
        }
      ]
    },
    {
      "cell_type": "code",
      "metadata": {
        "id": "n_OEmXucEb4I",
        "colab_type": "code",
        "colab": {}
      },
      "source": [
        "import pandas as pd\n",
        "import matplotlib.pylab as plt\n",
        "from sklearn import preprocessing"
      ],
      "execution_count": 0,
      "outputs": []
    },
    {
      "cell_type": "code",
      "metadata": {
        "id": "Zvteu_S3EqEN",
        "colab_type": "code",
        "colab": {}
      },
      "source": [
        "dataset= pd.read_csv('/content/drive/My Drive/Datasets: Cyber/Uncensored/LAND.csv')"
      ],
      "execution_count": 0,
      "outputs": []
    },
    {
      "cell_type": "code",
      "metadata": {
        "id": "MRh4pPJqSmA1",
        "colab_type": "code",
        "colab": {}
      },
      "source": [
        "li=[]\n",
        "for i in dataset:\n",
        "  li.append(i)"
      ],
      "execution_count": 0,
      "outputs": []
    },
    {
      "cell_type": "code",
      "metadata": {
        "id": "Nuf-pVmoTCg9",
        "colab_type": "code",
        "outputId": "bd26b737-0215-4bf7-9c86-6ef91218ebbb",
        "colab": {
          "base_uri": "https://localhost:8080/",
          "height": 452
        }
      },
      "source": [
        "dataset.head()"
      ],
      "execution_count": 0,
      "outputs": [
        {
          "output_type": "execute_result",
          "data": {
            "text/html": [
              "<div>\n",
              "<style scoped>\n",
              "    .dataframe tbody tr th:only-of-type {\n",
              "        vertical-align: middle;\n",
              "    }\n",
              "\n",
              "    .dataframe tbody tr th {\n",
              "        vertical-align: top;\n",
              "    }\n",
              "\n",
              "    .dataframe thead th {\n",
              "        text-align: right;\n",
              "    }\n",
              "</style>\n",
              "<table border=\"1\" class=\"dataframe\">\n",
              "  <thead>\n",
              "    <tr style=\"text-align: right;\">\n",
              "      <th></th>\n",
              "      <th>Date</th>\n",
              "      <th>UTC Time</th>\n",
              "      <th>Time</th>\n",
              "      <th>Relative Time</th>\n",
              "      <th>Absolute Time</th>\n",
              "      <th>Delta Time</th>\n",
              "      <th>Source</th>\n",
              "      <th>Destination</th>\n",
              "      <th>Protocol</th>\n",
              "      <th>Length</th>\n",
              "      <th>Info</th>\n",
              "      <th>SourcePort</th>\n",
              "      <th>DestPort</th>\n",
              "      <th>Cumulative Bytes</th>\n",
              "      <th>Hwdestaddr</th>\n",
              "      <th>Hwsrcaddr</th>\n",
              "      <th>Unresolved Destport</th>\n",
              "      <th>Unresolved Srcport</th>\n",
              "      <th>NetSrcAddr</th>\n",
              "      <th>NetDestAddr</th>\n",
              "      <th>ExpertInfo</th>\n",
              "      <th>Class</th>\n",
              "    </tr>\n",
              "  </thead>\n",
              "  <tbody>\n",
              "    <tr>\n",
              "      <th>0</th>\n",
              "      <td>22-03-2017 10:00</td>\n",
              "      <td>10:00:31</td>\n",
              "      <td>0.000000</td>\n",
              "      <td>0.000000</td>\n",
              "      <td>15:30:31</td>\n",
              "      <td>0.000000</td>\n",
              "      <td>192.168.60.6</td>\n",
              "      <td>192.168.100.1</td>\n",
              "      <td>SSH</td>\n",
              "      <td>2962</td>\n",
              "      <td>Server: Encrypted packet (len=2896)</td>\n",
              "      <td>22.0</td>\n",
              "      <td>51208.0</td>\n",
              "      <td>2962</td>\n",
              "      <td>fa:16:3e:f2:5a:f7</td>\n",
              "      <td>fa:16:3e:66:6e:87</td>\n",
              "      <td>51208.0</td>\n",
              "      <td>22.0</td>\n",
              "      <td>192.168.60.6</td>\n",
              "      <td>192.168.100.1</td>\n",
              "      <td>NaN</td>\n",
              "      <td>LANDFlood</td>\n",
              "    </tr>\n",
              "    <tr>\n",
              "      <th>1</th>\n",
              "      <td>22-03-2017 10:00</td>\n",
              "      <td>10:00:31</td>\n",
              "      <td>0.006955</td>\n",
              "      <td>0.006955</td>\n",
              "      <td>15:30:31</td>\n",
              "      <td>0.006955</td>\n",
              "      <td>192.168.100.1</td>\n",
              "      <td>192.168.60.6</td>\n",
              "      <td>TCP</td>\n",
              "      <td>66</td>\n",
              "      <td>51208  &gt;  22 [ACK] Seq=1 Ack=4294953665 Win=24...</td>\n",
              "      <td>51208.0</td>\n",
              "      <td>22.0</td>\n",
              "      <td>3028</td>\n",
              "      <td>fa:16:3e:66:6e:87</td>\n",
              "      <td>fa:16:3e:f2:5a:f7</td>\n",
              "      <td>22.0</td>\n",
              "      <td>51208.0</td>\n",
              "      <td>192.168.100.1</td>\n",
              "      <td>192.168.60.6</td>\n",
              "      <td>NaN</td>\n",
              "      <td>LANDFlood</td>\n",
              "    </tr>\n",
              "    <tr>\n",
              "      <th>2</th>\n",
              "      <td>22-03-2017 10:00</td>\n",
              "      <td>10:00:31</td>\n",
              "      <td>0.007100</td>\n",
              "      <td>0.007100</td>\n",
              "      <td>15:30:31</td>\n",
              "      <td>0.000145</td>\n",
              "      <td>192.168.60.6</td>\n",
              "      <td>192.168.100.1</td>\n",
              "      <td>SSH</td>\n",
              "      <td>2962</td>\n",
              "      <td>Server: Encrypted packet (len=2896)</td>\n",
              "      <td>22.0</td>\n",
              "      <td>51208.0</td>\n",
              "      <td>5990</td>\n",
              "      <td>fa:16:3e:f2:5a:f7</td>\n",
              "      <td>fa:16:3e:66:6e:87</td>\n",
              "      <td>51208.0</td>\n",
              "      <td>22.0</td>\n",
              "      <td>192.168.60.6</td>\n",
              "      <td>192.168.100.1</td>\n",
              "      <td>NaN</td>\n",
              "      <td>LANDFlood</td>\n",
              "    </tr>\n",
              "    <tr>\n",
              "      <th>3</th>\n",
              "      <td>22-03-2017 10:00</td>\n",
              "      <td>10:00:31</td>\n",
              "      <td>0.007169</td>\n",
              "      <td>0.007169</td>\n",
              "      <td>15:30:31</td>\n",
              "      <td>0.000069</td>\n",
              "      <td>192.168.60.6</td>\n",
              "      <td>192.168.100.1</td>\n",
              "      <td>SSH</td>\n",
              "      <td>2962</td>\n",
              "      <td>Server: Encrypted packet (len=2896)</td>\n",
              "      <td>22.0</td>\n",
              "      <td>51208.0</td>\n",
              "      <td>8952</td>\n",
              "      <td>fa:16:3e:f2:5a:f7</td>\n",
              "      <td>fa:16:3e:66:6e:87</td>\n",
              "      <td>51208.0</td>\n",
              "      <td>22.0</td>\n",
              "      <td>192.168.60.6</td>\n",
              "      <td>192.168.100.1</td>\n",
              "      <td>NaN</td>\n",
              "      <td>LANDFlood</td>\n",
              "    </tr>\n",
              "    <tr>\n",
              "      <th>4</th>\n",
              "      <td>22-03-2017 10:00</td>\n",
              "      <td>10:00:31</td>\n",
              "      <td>0.007199</td>\n",
              "      <td>0.007199</td>\n",
              "      <td>15:30:31</td>\n",
              "      <td>0.000030</td>\n",
              "      <td>192.168.100.1</td>\n",
              "      <td>192.168.60.6</td>\n",
              "      <td>TCP</td>\n",
              "      <td>66</td>\n",
              "      <td>51208  &gt;  22 [ACK] Seq=1 Ack=4294957797 Win=24...</td>\n",
              "      <td>51208.0</td>\n",
              "      <td>22.0</td>\n",
              "      <td>9018</td>\n",
              "      <td>fa:16:3e:66:6e:87</td>\n",
              "      <td>fa:16:3e:f2:5a:f7</td>\n",
              "      <td>22.0</td>\n",
              "      <td>51208.0</td>\n",
              "      <td>192.168.100.1</td>\n",
              "      <td>192.168.60.6</td>\n",
              "      <td>NaN</td>\n",
              "      <td>LANDFlood</td>\n",
              "    </tr>\n",
              "  </tbody>\n",
              "</table>\n",
              "</div>"
            ],
            "text/plain": [
              "               Date  UTC Time      Time  ...    NetDestAddr ExpertInfo      Class\n",
              "0  22-03-2017 10:00  10:00:31  0.000000  ...  192.168.100.1        NaN  LANDFlood\n",
              "1  22-03-2017 10:00  10:00:31  0.006955  ...   192.168.60.6        NaN  LANDFlood\n",
              "2  22-03-2017 10:00  10:00:31  0.007100  ...  192.168.100.1        NaN  LANDFlood\n",
              "3  22-03-2017 10:00  10:00:31  0.007169  ...  192.168.100.1        NaN  LANDFlood\n",
              "4  22-03-2017 10:00  10:00:31  0.007199  ...   192.168.60.6        NaN  LANDFlood\n",
              "\n",
              "[5 rows x 22 columns]"
            ]
          },
          "metadata": {
            "tags": []
          },
          "execution_count": 5
        }
      ]
    },
    {
      "cell_type": "code",
      "metadata": {
        "id": "Qb2dY7m_Sp3-",
        "colab_type": "code",
        "colab": {}
      },
      "source": [
        "dataset['Date']=pd.to_datetime(dataset['Date'])"
      ],
      "execution_count": 0,
      "outputs": []
    },
    {
      "cell_type": "code",
      "metadata": {
        "id": "1r-aPbjzTOZE",
        "colab_type": "code",
        "colab": {}
      },
      "source": [
        "li.remove(\"Date\")\n",
        "li.remove(\"Class\")"
      ],
      "execution_count": 0,
      "outputs": []
    },
    {
      "cell_type": "code",
      "metadata": {
        "id": "nP1bvfDSThCc",
        "colab_type": "code",
        "colab": {}
      },
      "source": [
        "dataset=dataset.drop(li,axis=1)"
      ],
      "execution_count": 0,
      "outputs": []
    },
    {
      "cell_type": "code",
      "metadata": {
        "id": "zQ_elUSdQMBW",
        "colab_type": "code",
        "outputId": "3164913a-4ee7-458f-ff2c-6b1355d06ec3",
        "colab": {
          "base_uri": "https://localhost:8080/",
          "height": 206
        }
      },
      "source": [
        "dataset.head()"
      ],
      "execution_count": 0,
      "outputs": [
        {
          "output_type": "execute_result",
          "data": {
            "text/html": [
              "<div>\n",
              "<style scoped>\n",
              "    .dataframe tbody tr th:only-of-type {\n",
              "        vertical-align: middle;\n",
              "    }\n",
              "\n",
              "    .dataframe tbody tr th {\n",
              "        vertical-align: top;\n",
              "    }\n",
              "\n",
              "    .dataframe thead th {\n",
              "        text-align: right;\n",
              "    }\n",
              "</style>\n",
              "<table border=\"1\" class=\"dataframe\">\n",
              "  <thead>\n",
              "    <tr style=\"text-align: right;\">\n",
              "      <th></th>\n",
              "      <th>Date</th>\n",
              "      <th>Class</th>\n",
              "    </tr>\n",
              "  </thead>\n",
              "  <tbody>\n",
              "    <tr>\n",
              "      <th>0</th>\n",
              "      <td>2017-03-22 10:00:00</td>\n",
              "      <td>LANDFlood</td>\n",
              "    </tr>\n",
              "    <tr>\n",
              "      <th>1</th>\n",
              "      <td>2017-03-22 10:00:00</td>\n",
              "      <td>LANDFlood</td>\n",
              "    </tr>\n",
              "    <tr>\n",
              "      <th>2</th>\n",
              "      <td>2017-03-22 10:00:00</td>\n",
              "      <td>LANDFlood</td>\n",
              "    </tr>\n",
              "    <tr>\n",
              "      <th>3</th>\n",
              "      <td>2017-03-22 10:00:00</td>\n",
              "      <td>LANDFlood</td>\n",
              "    </tr>\n",
              "    <tr>\n",
              "      <th>4</th>\n",
              "      <td>2017-03-22 10:00:00</td>\n",
              "      <td>LANDFlood</td>\n",
              "    </tr>\n",
              "  </tbody>\n",
              "</table>\n",
              "</div>"
            ],
            "text/plain": [
              "                 Date      Class\n",
              "0 2017-03-22 10:00:00  LANDFlood\n",
              "1 2017-03-22 10:00:00  LANDFlood\n",
              "2 2017-03-22 10:00:00  LANDFlood\n",
              "3 2017-03-22 10:00:00  LANDFlood\n",
              "4 2017-03-22 10:00:00  LANDFlood"
            ]
          },
          "metadata": {
            "tags": []
          },
          "execution_count": 9
        }
      ]
    },
    {
      "cell_type": "code",
      "metadata": {
        "id": "uSI7fQXwTuU1",
        "colab_type": "code",
        "outputId": "5088c500-4614-4963-e2f8-d1f671ad98b8",
        "colab": {
          "base_uri": "https://localhost:8080/",
          "height": 287
        }
      },
      "source": [
        "dataset.plot()"
      ],
      "execution_count": 0,
      "outputs": [
        {
          "output_type": "execute_result",
          "data": {
            "text/plain": [
              "<matplotlib.axes._subplots.AxesSubplot at 0x7ff2a294dbe0>"
            ]
          },
          "metadata": {
            "tags": []
          },
          "execution_count": 10
        },
        {
          "output_type": "display_data",
          "data": {
            "image/png": "[encoded data removed]",
            "text/plain": [
              "<Figure size 432x288 with 1 Axes>"
            ]
          },
          "metadata": {
            "tags": []
          }
        }
      ]
    },
    {
      "cell_type": "code",
      "metadata": {
        "id": "PwyTQRlqUZnt",
        "colab_type": "code",
        "colab": {}
      },
      "source": [
        "le=preprocessing.LabelEncoder()\n",
        "le.fit(dataset[\"Class\"])\n",
        "dataset[\"Class\"]=le.transform(dataset[\"Class\"])"
      ],
      "execution_count": 0,
      "outputs": []
    },
    {
      "cell_type": "code",
      "metadata": {
        "id": "tcsN08GfT8Eh",
        "colab_type": "code",
        "colab": {}
      },
      "source": [
        "dataset[\"stationary\"]=dataset[\"Class\"].diff()"
      ],
      "execution_count": 0,
      "outputs": []
    },
    {
      "cell_type": "code",
      "metadata": {
        "id": "wsyubS97UGS-",
        "colab_type": "code",
        "outputId": "d014e1eb-356b-43aa-b736-7e4f75c638a8",
        "colab": {
          "base_uri": "https://localhost:8080/",
          "height": 73
        }
      },
      "source": [
        "from statsmodels.tsa.ar_model import AR\n",
        "X = dataset['stationary'].dropna()\n",
        "train_data = X[1:len(X)-12]\n",
        "test_data = X[X[len(X)-12:]]\n",
        " \n",
        "#train the autoregression model\n",
        "model = AR(train_data)\n",
        "model_fitted = model.fit()"
      ],
      "execution_count": 0,
      "outputs": [
        {
          "output_type": "stream",
          "text": [
            "/usr/local/lib/python3.6/dist-packages/statsmodels/tsa/base/tsa_model.py:215: ValueWarning: An unsupported index was provided and will be ignored when e.g. forecasting.\n",
            "  ' ignored when e.g. forecasting.', ValueWarning)\n"
          ],
          "name": "stderr"
        }
      ]
    },
    {
      "cell_type": "code",
      "metadata": {
        "id": "Y0lnWV04Utg0",
        "colab_type": "code",
        "outputId": "77d27cc3-e14c-4150-fe01-adf24f31508a",
        "colab": {
          "base_uri": "https://localhost:8080/",
          "height": 35
        }
      },
      "source": [
        "\n",
        "print('The lag value chose is: %s' % model_fitted.k_ar)\n",
        " "
      ],
      "execution_count": 0,
      "outputs": [
        {
          "output_type": "stream",
          "text": [
            "The lag value chose is: 62\n"
          ],
          "name": "stdout"
        }
      ]
    },
    {
      "cell_type": "code",
      "metadata": {
        "id": "w524w5TTU3hl",
        "colab_type": "code",
        "outputId": "887d1bc8-02dc-4bb0-f9a1-182c2d5a45e0",
        "colab": {
          "base_uri": "https://localhost:8080/",
          "height": 1000
        }
      },
      "source": [
        "print('The coefficients of the model are:\\n %s' % model_fitted.params)"
      ],
      "execution_count": 0,
      "outputs": [
        {
          "output_type": "stream",
          "text": [
            "The coefficients of the model are:\n",
            " const             0.000014\n",
            "L1.stationary    -0.000014\n",
            "L2.stationary    -0.000014\n",
            "L3.stationary    -0.000014\n",
            "L4.stationary    -0.000014\n",
            "L5.stationary    -0.000014\n",
            "L6.stationary    -0.000014\n",
            "L7.stationary    -0.000014\n",
            "L8.stationary    -0.000014\n",
            "L9.stationary    -0.000014\n",
            "L10.stationary   -0.000014\n",
            "L11.stationary   -0.000014\n",
            "L12.stationary   -0.000014\n",
            "L13.stationary   -0.000014\n",
            "L14.stationary   -0.000014\n",
            "L15.stationary   -0.000014\n",
            "L16.stationary   -0.000014\n",
            "L17.stationary   -0.000014\n",
            "L18.stationary   -0.000014\n",
            "L19.stationary   -0.000014\n",
            "L20.stationary   -0.000014\n",
            "L21.stationary   -0.000014\n",
            "L22.stationary   -0.000014\n",
            "L23.stationary   -0.000014\n",
            "L24.stationary   -0.000014\n",
            "L25.stationary   -0.000014\n",
            "L26.stationary   -0.000014\n",
            "L27.stationary   -0.000014\n",
            "L28.stationary   -0.000014\n",
            "L29.stationary   -0.000014\n",
            "                    ...   \n",
            "L33.stationary   -0.000014\n",
            "L34.stationary   -0.000014\n",
            "L35.stationary   -0.000014\n",
            "L36.stationary   -0.000014\n",
            "L37.stationary   -0.000014\n",
            "L38.stationary   -0.000014\n",
            "L39.stationary   -0.000014\n",
            "L40.stationary   -0.000014\n",
            "L41.stationary   -0.000014\n",
            "L42.stationary   -0.000014\n",
            "L43.stationary   -0.000014\n",
            "L44.stationary   -0.000014\n",
            "L45.stationary   -0.000014\n",
            "L46.stationary   -0.000014\n",
            "L47.stationary   -0.000014\n",
            "L48.stationary   -0.000014\n",
            "L49.stationary   -0.000014\n",
            "L50.stationary   -0.000014\n",
            "L51.stationary   -0.000014\n",
            "L52.stationary   -0.000014\n",
            "L53.stationary   -0.000014\n",
            "L54.stationary   -0.000014\n",
            "L55.stationary   -0.000014\n",
            "L56.stationary   -0.000014\n",
            "L57.stationary   -0.000014\n",
            "L58.stationary   -0.000014\n",
            "L59.stationary   -0.000014\n",
            "L60.stationary   -0.000014\n",
            "L61.stationary   -0.000014\n",
            "L62.stationary   -0.000014\n",
            "Length: 63, dtype: float64\n"
          ],
          "name": "stdout"
        }
      ]
    },
    {
      "cell_type": "code",
      "metadata": {
        "id": "imzgQGYZU6eH",
        "colab_type": "code",
        "outputId": "a19f1d51-f25e-4301-bf33-65ac3789bb5f",
        "colab": {
          "base_uri": "https://localhost:8080/",
          "height": 344
        }
      },
      "source": [
        "predictions = model_fitted.predict(\n",
        "    start=len(train_data), \n",
        "    end=len(train_data) + len(test_data)-1, \n",
        "    dynamic=False)\n",
        " \n",
        "# create a comparison dataframe\n",
        "compare_df = pd.concat(\n",
        "    [dataset['stationary'].tail(12),\n",
        "    predictions], axis=1).rename(\n",
        "    columns={'stationary': 'actual', 0:'predicted'})\n",
        " \n",
        "#plot the two values\n",
        "compare_df.plot()"
      ],
      "execution_count": 0,
      "outputs": [
        {
          "output_type": "stream",
          "text": [
            "/usr/local/lib/python3.6/dist-packages/statsmodels/tsa/base/tsa_model.py:576: ValueWarning: No supported index is available. Prediction results will be given with an integer index beginning at `start`.\n",
            "  ValueWarning)\n"
          ],
          "name": "stderr"
        },
        {
          "output_type": "execute_result",
          "data": {
            "text/plain": [
              "<matplotlib.axes._subplots.AxesSubplot at 0x7ff29fa29a58>"
            ]
          },
          "metadata": {
            "tags": []
          },
          "execution_count": 16
        },
        {
          "output_type": "display_data",
          "data": {
            "image/png": "[encoded data removed]",
            "text/plain": [
              "<Figure size 432x288 with 1 Axes>"
            ]
          },
          "metadata": {
            "tags": []
          }
        }
      ]
    },
    {
      "cell_type": "code",
      "metadata": {
        "id": "ZvrJ3xMwVCDo",
        "colab_type": "code",
        "colab": {}
      },
      "source": [
        ""
      ],
      "execution_count": 0,
      "outputs": []
    }
  ]
}